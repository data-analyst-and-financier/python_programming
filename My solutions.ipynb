{
 "cells": [
  {
   "cell_type": "markdown",
   "id": "f840c5b9",
   "metadata": {},
   "source": [
    "#  Решение задач из курса «Программирование на Python»"
   ]
  },
  {
   "cell_type": "markdown",
   "id": "ef4b5c27",
   "metadata": {
    "toc": true
   },
   "source": [
    "<h1>Содержание<span class=\"tocSkip\"></span></h1>\n",
    "<div class=\"toc\"><ul class=\"toc-item\"><li><span><a href=\"#Тема-«Операторы.-Переменные.-Типы-данных.-Условия»\" data-toc-modified-id=\"Тема-«Операторы.-Переменные.-Типы-данных.-Условия»-1\"><span class=\"toc-item-num\">1&nbsp;&nbsp;</span>Тема «Операторы. Переменные. Типы данных. Условия»</a></span><ul class=\"toc-item\"><li><span><a href=\"#Задачи-по-материалам-недели\" data-toc-modified-id=\"Задачи-по-материалам-недели-1.1\"><span class=\"toc-item-num\">1.1&nbsp;&nbsp;</span>Задачи по материалам недели</a></span><ul class=\"toc-item\"><li><span><a href=\"#Задача-1\" data-toc-modified-id=\"Задача-1-1.1.1\"><span class=\"toc-item-num\">1.1.1&nbsp;&nbsp;</span>Задача 1</a></span></li><li><span><a href=\"#Задача-2\" data-toc-modified-id=\"Задача-2-1.1.2\"><span class=\"toc-item-num\">1.1.2&nbsp;&nbsp;</span>Задача 2</a></span></li><li><span><a href=\"#Задача-3\" data-toc-modified-id=\"Задача-3-1.1.3\"><span class=\"toc-item-num\">1.1.3&nbsp;&nbsp;</span>Задача 3</a></span></li><li><span><a href=\"#Задача-4\" data-toc-modified-id=\"Задача-4-1.1.4\"><span class=\"toc-item-num\">1.1.4&nbsp;&nbsp;</span>Задача 4</a></span></li><li><span><a href=\"#Задача-5\" data-toc-modified-id=\"Задача-5-1.1.5\"><span class=\"toc-item-num\">1.1.5&nbsp;&nbsp;</span>Задача 5</a></span></li><li><span><a href=\"#Задача-6\" data-toc-modified-id=\"Задача-6-1.1.6\"><span class=\"toc-item-num\">1.1.6&nbsp;&nbsp;</span>Задача 6</a></span></li><li><span><a href=\"#Задача-7-(дополнительная)\" data-toc-modified-id=\"Задача-7-(дополнительная)-1.1.7\"><span class=\"toc-item-num\">1.1.7&nbsp;&nbsp;</span>Задача 7 (дополнительная)</a></span></li></ul></li></ul></li><li><span><a href=\"#Тема-«Циклы.-Строки.-Списки»\" data-toc-modified-id=\"Тема-«Циклы.-Строки.-Списки»-2\"><span class=\"toc-item-num\">2&nbsp;&nbsp;</span>Тема «Циклы. Строки. Списки»</a></span><ul class=\"toc-item\"><li><span><a href=\"#Цикл-while\" data-toc-modified-id=\"Цикл-while-2.1\"><span class=\"toc-item-num\">2.1&nbsp;&nbsp;</span>Цикл while</a></span><ul class=\"toc-item\"><li><span><a href=\"#Задача-8\" data-toc-modified-id=\"Задача-8-2.1.1\"><span class=\"toc-item-num\">2.1.1&nbsp;&nbsp;</span>Задача 8</a></span></li><li><span><a href=\"#Задача-9\" data-toc-modified-id=\"Задача-9-2.1.2\"><span class=\"toc-item-num\">2.1.2&nbsp;&nbsp;</span>Задача 9</a></span></li></ul></li><li><span><a href=\"#Операторы-break,-continue\" data-toc-modified-id=\"Операторы-break,-continue-2.2\"><span class=\"toc-item-num\">2.2&nbsp;&nbsp;</span>Операторы break, continue</a></span><ul class=\"toc-item\"><li><span><a href=\"#Задача-10\" data-toc-modified-id=\"Задача-10-2.2.1\"><span class=\"toc-item-num\">2.2.1&nbsp;&nbsp;</span>Задача 10</a></span></li></ul></li><li><span><a href=\"#Цикл-for\" data-toc-modified-id=\"Цикл-for-2.3\"><span class=\"toc-item-num\">2.3&nbsp;&nbsp;</span>Цикл for</a></span><ul class=\"toc-item\"><li><span><a href=\"#Задача-11\" data-toc-modified-id=\"Задача-11-2.3.1\"><span class=\"toc-item-num\">2.3.1&nbsp;&nbsp;</span>Задача 11</a></span></li><li><span><a href=\"#Задача-12\" data-toc-modified-id=\"Задача-12-2.3.2\"><span class=\"toc-item-num\">2.3.2&nbsp;&nbsp;</span>Задача 12</a></span></li></ul></li><li><span><a href=\"#Строки-и-символы\" data-toc-modified-id=\"Строки-и-символы-2.4\"><span class=\"toc-item-num\">2.4&nbsp;&nbsp;</span>Строки и символы</a></span><ul class=\"toc-item\"><li><span><a href=\"#Задача-13\" data-toc-modified-id=\"Задача-13-2.4.1\"><span class=\"toc-item-num\">2.4.1&nbsp;&nbsp;</span>Задача 13</a></span></li><li><span><a href=\"#Задача-14\" data-toc-modified-id=\"Задача-14-2.4.2\"><span class=\"toc-item-num\">2.4.2&nbsp;&nbsp;</span>Задача 14</a></span></li></ul></li><li><span><a href=\"#Списки\" data-toc-modified-id=\"Списки-2.5\"><span class=\"toc-item-num\">2.5&nbsp;&nbsp;</span>Списки</a></span><ul class=\"toc-item\"><li><span><a href=\"#Задача-15\" data-toc-modified-id=\"Задача-15-2.5.1\"><span class=\"toc-item-num\">2.5.1&nbsp;&nbsp;</span>Задача 15</a></span></li><li><span><a href=\"#Задача-16\" data-toc-modified-id=\"Задача-16-2.5.2\"><span class=\"toc-item-num\">2.5.2&nbsp;&nbsp;</span>Задача 16</a></span></li><li><span><a href=\"#Задача-17\" data-toc-modified-id=\"Задача-17-2.5.3\"><span class=\"toc-item-num\">2.5.3&nbsp;&nbsp;</span>Задача 17</a></span></li></ul></li><li><span><a href=\"#Задачи-по-материалам-недели\" data-toc-modified-id=\"Задачи-по-материалам-недели-2.6\"><span class=\"toc-item-num\">2.6&nbsp;&nbsp;</span>Задачи по материалам недели</a></span><ul class=\"toc-item\"><li><span><a href=\"#Задача-18\" data-toc-modified-id=\"Задача-18-2.6.1\"><span class=\"toc-item-num\">2.6.1&nbsp;&nbsp;</span>Задача 18</a></span></li><li><span><a href=\"#Задача-19\" data-toc-modified-id=\"Задача-19-2.6.2\"><span class=\"toc-item-num\">2.6.2&nbsp;&nbsp;</span>Задача 19</a></span></li><li><span><a href=\"#Задача-20\" data-toc-modified-id=\"Задача-20-2.6.3\"><span class=\"toc-item-num\">2.6.3&nbsp;&nbsp;</span>Задача 20</a></span></li><li><span><a href=\"#Задача-21\" data-toc-modified-id=\"Задача-21-2.6.4\"><span class=\"toc-item-num\">2.6.4&nbsp;&nbsp;</span>Задача 21</a></span></li><li><span><a href=\"#Задача-22\" data-toc-modified-id=\"Задача-22-2.6.5\"><span class=\"toc-item-num\">2.6.5&nbsp;&nbsp;</span>Задача 22</a></span></li></ul></li></ul></li><li><span><a href=\"#Тема-«Функции.-Словари.-Интерпретатор.-Файлы.-Модули»\" data-toc-modified-id=\"Тема-«Функции.-Словари.-Интерпретатор.-Файлы.-Модули»-3\"><span class=\"toc-item-num\">3&nbsp;&nbsp;</span>Тема «Функции. Словари. Интерпретатор. Файлы. Модули»</a></span><ul class=\"toc-item\"><li><span><a href=\"#Функции\" data-toc-modified-id=\"Функции-3.1\"><span class=\"toc-item-num\">3.1&nbsp;&nbsp;</span>Функции</a></span><ul class=\"toc-item\"><li><span><a href=\"#Задача-23\" data-toc-modified-id=\"Задача-23-3.1.1\"><span class=\"toc-item-num\">3.1.1&nbsp;&nbsp;</span>Задача 23</a></span></li><li><span><a href=\"#Задача-24\" data-toc-modified-id=\"Задача-24-3.1.2\"><span class=\"toc-item-num\">3.1.2&nbsp;&nbsp;</span>Задача 24</a></span></li></ul></li><li><span><a href=\"#Словари\" data-toc-modified-id=\"Словари-3.2\"><span class=\"toc-item-num\">3.2&nbsp;&nbsp;</span>Словари</a></span><ul class=\"toc-item\"><li><span><a href=\"#Задача-25\" data-toc-modified-id=\"Задача-25-3.2.1\"><span class=\"toc-item-num\">3.2.1&nbsp;&nbsp;</span>Задача 25</a></span></li><li><span><a href=\"#Задача-26\" data-toc-modified-id=\"Задача-26-3.2.2\"><span class=\"toc-item-num\">3.2.2&nbsp;&nbsp;</span>Задача 26</a></span></li><li><span><a href=\"#Задача-27\" data-toc-modified-id=\"Задача-27-3.2.3\"><span class=\"toc-item-num\">3.2.3&nbsp;&nbsp;</span>Задача 27</a></span></li></ul></li><li><span><a href=\"#Файловый-ввод/вывод\" data-toc-modified-id=\"Файловый-ввод/вывод-3.3\"><span class=\"toc-item-num\">3.3&nbsp;&nbsp;</span>Файловый ввод/вывод</a></span><ul class=\"toc-item\"><li><span><a href=\"#Задача-28\" data-toc-modified-id=\"Задача-28-3.3.1\"><span class=\"toc-item-num\">3.3.1&nbsp;&nbsp;</span>Задача 28</a></span></li><li><span><a href=\"#Задача-29\" data-toc-modified-id=\"Задача-29-3.3.2\"><span class=\"toc-item-num\">3.3.2&nbsp;&nbsp;</span>Задача 29</a></span></li><li><span><a href=\"#Задача-30\" data-toc-modified-id=\"Задача-30-3.3.3\"><span class=\"toc-item-num\">3.3.3&nbsp;&nbsp;</span>Задача 30</a></span></li></ul></li><li><span><a href=\"#Модули,-подключение-модулей\" data-toc-modified-id=\"Модули,-подключение-модулей-3.4\"><span class=\"toc-item-num\">3.4&nbsp;&nbsp;</span>Модули, подключение модулей</a></span><ul class=\"toc-item\"><li><span><a href=\"#Задача-31\" data-toc-modified-id=\"Задача-31-3.4.1\"><span class=\"toc-item-num\">3.4.1&nbsp;&nbsp;</span>Задача 31</a></span></li><li><span><a href=\"#Задача-32\" data-toc-modified-id=\"Задача-32-3.4.2\"><span class=\"toc-item-num\">3.4.2&nbsp;&nbsp;</span>Задача 32</a></span></li></ul></li><li><span><a href=\"#Установка-дополнительных-модулей\" data-toc-modified-id=\"Установка-дополнительных-модулей-3.5\"><span class=\"toc-item-num\">3.5&nbsp;&nbsp;</span>Установка дополнительных модулей</a></span><ul class=\"toc-item\"><li><span><a href=\"#Задача-33\" data-toc-modified-id=\"Задача-33-3.5.1\"><span class=\"toc-item-num\">3.5.1&nbsp;&nbsp;</span>Задача 33</a></span></li><li><span><a href=\"#Задача-34\" data-toc-modified-id=\"Задача-34-3.5.2\"><span class=\"toc-item-num\">3.5.2&nbsp;&nbsp;</span>Задача 34</a></span></li></ul></li><li><span><a href=\"#Задачи-по-материалам-недели\" data-toc-modified-id=\"Задачи-по-материалам-недели-3.6\"><span class=\"toc-item-num\">3.6&nbsp;&nbsp;</span>Задачи по материалам недели</a></span><ul class=\"toc-item\"><li><span><a href=\"#Задача-35\" data-toc-modified-id=\"Задача-35-3.6.1\"><span class=\"toc-item-num\">3.6.1&nbsp;&nbsp;</span>Задача 35</a></span></li><li><span><a href=\"#Задача-36-(дополнительная)\" data-toc-modified-id=\"Задача-36-(дополнительная)-3.6.2\"><span class=\"toc-item-num\">3.6.2&nbsp;&nbsp;</span>Задача 36 (дополнительная)</a></span></li><li><span><a href=\"#Задача-37\" data-toc-modified-id=\"Задача-37-3.6.3\"><span class=\"toc-item-num\">3.6.3&nbsp;&nbsp;</span>Задача 37</a></span></li><li><span><a href=\"#Задача-38\" data-toc-modified-id=\"Задача-38-3.6.4\"><span class=\"toc-item-num\">3.6.4&nbsp;&nbsp;</span>Задача 38</a></span></li><li><span><a href=\"#Задача-39\" data-toc-modified-id=\"Задача-39-3.6.5\"><span class=\"toc-item-num\">3.6.5&nbsp;&nbsp;</span>Задача 39</a></span></li></ul></li></ul></li></ul></div>"
   ]
  },
  {
   "cell_type": "markdown",
   "id": "574ab69a",
   "metadata": {},
   "source": [
    "## Тема «Операторы. Переменные. Типы данных. Условия»"
   ]
  },
  {
   "cell_type": "markdown",
   "id": "d3a2fb70",
   "metadata": {},
   "source": [
    "### Задачи по материалам недели"
   ]
  },
  {
   "cell_type": "markdown",
   "id": "1a7ac026",
   "metadata": {},
   "source": [
    "#### Задача 1"
   ]
  },
  {
   "cell_type": "markdown",
   "id": "e569b54b",
   "metadata": {},
   "source": [
    "В то далёкое время, когда Паша ходил в школу, ему очень не нравилась формула Герона для вычисления площади треугольника, т. к. казалась слишком сложной. В один прекрасный момент Павел решил избавить всех школьников от страданий и написать и распространить по школам программу, вычисляющую площадь треугольника по трём сторонам.\n",
    "\n",
    "Одна проблема: так как эта формула не нравилась Павлу, он её не запомнил. Помогите ему завершить доброе дело и напишите программу, вычисляющую площадь треугольника по переданным длинам трёх его сторон по формуле Герона: \n",
    "\n",
    " \n",
    "<p style=\"text-align: center;\">S = (p * (p − a) * (p − b) * (p − c)) ** 0.5,</p>\n",
    "\n",
    "где p = (a + b + c) / 2 – полупериметр треугольника. На вход программе подаются целые числа, выводом программы должно являться вещественное число, соответствующее площади треугольника.\n",
    "\n",
    "*Эта задача доступна по [ссылке](https://stepik.org/lesson/5047/step/1?unit=1086).*"
   ]
  },
  {
   "cell_type": "code",
   "execution_count": 32,
   "id": "47b14fb9",
   "metadata": {
    "scrolled": true
   },
   "outputs": [
    {
     "name": "stdout",
     "output_type": "stream",
     "text": [
      "5.6\n",
      "6.4\n",
      "2.3\n"
     ]
    },
    {
     "data": {
      "text/plain": [
       "6.349219932401147"
      ]
     },
     "execution_count": 32,
     "metadata": {},
     "output_type": "execute_result"
    }
   ],
   "source": [
    "# задаем стороны треугольника\n",
    "a = float(input())\n",
    "b = float(input())\n",
    "c = float(input())\n",
    "\n",
    "# считаем значение p\n",
    "p = (a + b + c) / 2\n",
    "\n",
    "# считаем площадь треугольника по формуле Герона\n",
    "s = (p * (p - a) * (p - b) * (p - c)) ** 0.5\n",
    "\n",
    "# выводим на экран значение площади треугольника\n",
    "s"
   ]
  },
  {
   "cell_type": "markdown",
   "id": "e87c70e6",
   "metadata": {},
   "source": [
    "#### Задача 2"
   ]
  },
  {
   "cell_type": "markdown",
   "id": "2904a5dc",
   "metadata": {},
   "source": [
    "Напишите программу, принимающую на вход целое число, которая выводит *True*, если переданное значение попадает в интервал \n",
    "(−15, 12] ∪ (14, 17) ∪ [19, +∞) и *False* в противном случае (регистр символов имеет значение).\n",
    "\n",
    "*Эта задача доступна по [ссылке](https://stepik.org/lesson/5047/step/2?unit=1086).*"
   ]
  },
  {
   "cell_type": "code",
   "execution_count": 2,
   "id": "9ec44960",
   "metadata": {},
   "outputs": [
    {
     "name": "stdout",
     "output_type": "stream",
     "text": [
      "17\n",
      "False\n"
     ]
    }
   ],
   "source": [
    "# инициализируем переменную для ввода целого числа\n",
    "a = int(input())\n",
    "\n",
    "# используем условия if и else для определения того, попадает ли число в соответствующие интервалы\n",
    "if (-15 < a  <= 12) or (14 < a < 17) or (a >= 19):\n",
    "    print('True')\n",
    "else:\n",
    "    print('False')"
   ]
  },
  {
   "cell_type": "markdown",
   "id": "5fba7542",
   "metadata": {},
   "source": [
    "#### Задача 3"
   ]
  },
  {
   "cell_type": "markdown",
   "id": "dfaa087a",
   "metadata": {},
   "source": [
    "Напишите простой калькулятор, который считывает с пользовательского ввода три строки: первое число, второе число и операцию, после чего применяет операцию к введённым числам («первое число», «операция», «второе число») и выводит результат на экран.\n",
    "\n",
    "Поддерживаемые операции: +, -, /, \\*, mod, pow, div,  где:\n",
    "* mod – взятие остатка от деления,\n",
    "* pow – возведение в степень,\n",
    "* div – целочисленное деление.\n",
    "\n",
    "Если выполняется деление и второе число равно 0, необходимо выводить строку «Деление на 0!».\n",
    "\n",
    "Обратите внимание, что на вход программе приходят вещественные числа.\n",
    "\n",
    "*Эта задача доступна по [ссылке](https://stepik.org/lesson/5047/step/3?unit=1086).*"
   ]
  },
  {
   "cell_type": "code",
   "execution_count": 3,
   "id": "f2f916eb",
   "metadata": {},
   "outputs": [
    {
     "name": "stdout",
     "output_type": "stream",
     "text": [
      "21.4\n",
      "6.3\n",
      "mod\n",
      "2.499999999999999\n"
     ]
    }
   ],
   "source": [
    "# инициализируем переменные для ввода вещественных чисел\n",
    "a = float(input())\n",
    "b = float(input())\n",
    "\n",
    "# инициализируем переменную для указания типа операции\n",
    "c = input()\n",
    "\n",
    "# используем условия if, elif, else для выполнения арифметических операций\n",
    "if c == '+':\n",
    "    result = a + b\n",
    "    print(result)\n",
    "elif c == '-':\n",
    "    result = a - b\n",
    "    print(result)\n",
    "elif c == '/':\n",
    "    if b != 0:\n",
    "        result = a / b\n",
    "        print(result)\n",
    "    else:\n",
    "        print('Деление на 0!')\n",
    "elif c == '*':\n",
    "    result = a * b\n",
    "    print(result)\n",
    "elif c == 'mod':\n",
    "    if b != 0:\n",
    "        result = a % b\n",
    "        print(result)\n",
    "    else:\n",
    "        print('Деление на 0!') \n",
    "elif c == 'pow':\n",
    "    result = a ** b\n",
    "    print(result)\n",
    "elif c == 'div':\n",
    "    if b != 0:\n",
    "        result = a // b\n",
    "        print(result)\n",
    "    else:\n",
    "        print('Деление на 0!') "
   ]
  },
  {
   "cell_type": "markdown",
   "id": "0ced24ae",
   "metadata": {},
   "source": [
    "#### Задача 4"
   ]
  },
  {
   "cell_type": "markdown",
   "id": "67a577b1",
   "metadata": {},
   "source": [
    "Жители страны Малевии часто экспериментируют с планировкой комнат. Комнаты бывают треугольные, прямоугольные и круглые. Чтобы быстро вычислять жилую площадь, требуется написать программу, на вход которой подаётся тип фигуры комнаты и соответствующие параметры, которая бы выводила площадь получившейся комнаты.\n",
    "\n",
    "Для числа *π* в стране Малевии используют значение 3.14.\n",
    "\n",
    "Формат ввода, который используют Малевийцы:\n",
    "1) если комната треугольная: \n",
    "- треугольник\n",
    "- a\n",
    "- b\n",
    "- c  \n",
    "\n",
    "где a, b и c – длины сторон треугольника,\n",
    "\n",
    "2) если комната прямоугольная:\n",
    "- прямоугольник\n",
    "- a\n",
    "- b \n",
    "\n",
    "где a и b – длины сторон прямоугольника,\n",
    "\n",
    "3) ели комната круглая: \n",
    "- круг\n",
    "- r\n",
    "\n",
    "где r – радиус окружности.\n",
    "\n",
    "*Эта задача доступна по [ссылке](https://stepik.org/lesson/5047/step/4?unit=1086).*"
   ]
  },
  {
   "cell_type": "code",
   "execution_count": 4,
   "id": "55f4197b",
   "metadata": {},
   "outputs": [
    {
     "name": "stdout",
     "output_type": "stream",
     "text": [
      "круг\n",
      "14\n",
      "615.44\n"
     ]
    }
   ],
   "source": [
    "# инициализируем переменную для указания типа фигуры\n",
    "type = input()\n",
    "\n",
    "# используем условия if, elif, else для расчета жилой площади в зависимости от заданного типа фигуры\n",
    "if type == 'прямоугольник':\n",
    "    a = int(input())\n",
    "    b = int(input())\n",
    "    result = a * b\n",
    "    print(result)\n",
    "elif type == 'круг':\n",
    "    pi = 3.14\n",
    "    r = int(input())\n",
    "    result = pi * (r ** 2)\n",
    "    print(result)\n",
    "elif type == 'треугольник':\n",
    "    a = int(input())\n",
    "    b = int(input())\n",
    "    c = int(input())\n",
    "    p = (a + b + c) / 2\n",
    "    result = (p * (p - a) * (p - b) * (p - c)) ** 0.5\n",
    "    print(result)"
   ]
  },
  {
   "cell_type": "markdown",
   "id": "aa9c1aaf",
   "metadata": {},
   "source": [
    "#### Задача 5"
   ]
  },
  {
   "cell_type": "markdown",
   "id": "859d0c6e",
   "metadata": {},
   "source": [
    "Напишите программу, которая получает на вход три целых числа, по одному числу в строке, и выводит на консоль в три строки сначала максимальное, потом минимальное, после чего оставшееся число.\n",
    "\n",
    "На ввод могут подаваться и повторяющиеся числа.\n",
    "\n",
    "*Эта задача доступна по [ссылке](https://stepik.org/lesson/5047/step/5?unit=1086).*"
   ]
  },
  {
   "cell_type": "code",
   "execution_count": 5,
   "id": "a155d1cc",
   "metadata": {},
   "outputs": [
    {
     "name": "stdout",
     "output_type": "stream",
     "text": [
      "101\n",
      "212\n",
      "101\n",
      "212\n",
      "101\n",
      "101\n"
     ]
    }
   ],
   "source": [
    "# инициализируем переменные для ввода трех целых чисел\n",
    "a = int(input())\n",
    "b = int(input())\n",
    "c = int(input())\n",
    "\n",
    "# используем условия if, elif, else для определения максимального, минимального и оставшегося чисел\n",
    "if (a >= b and a >= c) and (b <= a and b <= c):\n",
    "    print(a)\n",
    "    print(b)\n",
    "    print(c)\n",
    "elif (b >= a and b >= c) and (a <= b and a <= c):    \n",
    "    print(b)\n",
    "    print(a)\n",
    "    print(c)\n",
    "elif (c >= a and c >= b) and (a <= b and a <= c): \n",
    "    print(c)\n",
    "    print(a)\n",
    "    print(b)\n",
    "elif (c >= a and c >= b) and (b <= a and b <= c): \n",
    "    print(c)\n",
    "    print(b)\n",
    "    print(a)\n",
    "elif (a >= b and a >= c) and (c <= a and c <= b): \n",
    "    print(a)\n",
    "    print(c)\n",
    "    print(b)\n",
    "elif (b >= a and b >= c) and (c <= a and c <= b): \n",
    "    print(b)\n",
    "    print(c)\n",
    "    print(a)"
   ]
  },
  {
   "cell_type": "markdown",
   "id": "143036b7",
   "metadata": {},
   "source": [
    "#### Задача 6"
   ]
  },
  {
   "cell_type": "markdown",
   "id": "4b653c23",
   "metadata": {},
   "source": [
    "В институте биоинформатики по офису передвигается робот. Недавно студенты из группы программистов написали для него программу, по которой робот, когда заходит в комнату, считает количество программистов в ней и произносит его вслух: «n программистов».\n",
    "\n",
    "Для того, чтобы это звучало правильно, для каждого *n* нужно использовать верное окончание слова.\n",
    "\n",
    "Напишите программу, считывающую с пользовательского ввода целое число *n* (неотрицательное), выводящее это число в консоль вместе с правильным образом изменённым словом «программист», для того, чтобы робот мог нормально общаться с людьми, например: 1 программист, 2 программиста, 5 программистов.\n",
    "\n",
    "В комнате может быть очень много программистов. Проверьте, что ваша программа правильно обработает все случаи, как минимум до 1000 человек.\n",
    "\n",
    "*Эта задача доступна по [ссылке](https://stepik.org/lesson/5047/step/6?unit=1086).*"
   ]
  },
  {
   "cell_type": "code",
   "execution_count": 6,
   "id": "d793e62f",
   "metadata": {
    "scrolled": true
   },
   "outputs": [
    {
     "name": "stdout",
     "output_type": "stream",
     "text": [
      "165\n",
      "165 программистов\n"
     ]
    }
   ],
   "source": [
    "# инициализируем переменную для ввода числа по модулю, для чего используем функцию abs\n",
    "q = abs(int(input()))\n",
    "\n",
    "# используем условия if, elif, else для выбора подходящего окончания в зависимости от количества программистов в комнате\n",
    "if (q % 10 == 1) and (q != 11) and (q % 100 != 11):\n",
    "    print(q, 'программист')\n",
    "elif ((q % 10 == 2) and (q != 12) and (q % 100 != 12)) or \\\n",
    "     ((q % 10 == 3) and (q != 13) and (q % 100 != 13)) or \\\n",
    "     ((q % 10 == 4) and (q != 14) and (q % 100 != 14)):\n",
    "    print(q, 'программиста')\n",
    "else:\n",
    "    print(q, 'программистов')"
   ]
  },
  {
   "cell_type": "markdown",
   "id": "a6325475",
   "metadata": {},
   "source": [
    "#### Задача 7 (дополнительная)"
   ]
  },
  {
   "cell_type": "markdown",
   "id": "78959277",
   "metadata": {},
   "source": [
    "Паша очень любит кататься на общественном транспорте, а получая билет, сразу проверяет, счастливый ли ему попался. Билет считается счастливым, если сумма первых трех цифр совпадает с суммой последних трех цифр номера билета.\n",
    "\n",
    "Однако Паша очень плохо считает в уме, поэтому попросил вас написать программу, которая проверит равенство сумм и выведет «Счастливый», если суммы совпадают, и «Обычный», если суммы различны.\n",
    "\n",
    "На вход программе подаётся строка из шести цифр.\n",
    "\n",
    "Выводить нужно только слово «Счастливый» или «Обычный», с большой буквы.\n",
    "\n",
    "*Эта задача доступна по [ссылке](https://stepik.org/lesson/5047/step/7?unit=1086).*"
   ]
  },
  {
   "cell_type": "code",
   "execution_count": 7,
   "id": "f9e72321",
   "metadata": {},
   "outputs": [
    {
     "name": "stdout",
     "output_type": "stream",
     "text": [
      "829775\n",
      "Счастливый\n"
     ]
    }
   ],
   "source": [
    "# инициализируем переменную для ввода строки из шести чисел\n",
    "number = input()\n",
    "\n",
    "# используем условия if, elif, else для поиска «счастливого» билета\n",
    "if len(number) == 6:\n",
    "    sum_one = int(number[0]) + int(number[1]) + int(number[2])\n",
    "    sum_two = int(number[3]) + int(number[4]) + int(number[5])\n",
    "    if sum_one == sum_two:\n",
    "        print('Счастливый')\n",
    "    else:    \n",
    "        print('Обычный')\n",
    "elif len(number) != 6:\n",
    "    number = input('Введите шестизначное число')"
   ]
  },
  {
   "cell_type": "markdown",
   "id": "480eb3bb",
   "metadata": {},
   "source": [
    "## Тема «Циклы. Строки. Списки»"
   ]
  },
  {
   "cell_type": "markdown",
   "id": "320f9f58",
   "metadata": {},
   "source": [
    "### Цикл while"
   ]
  },
  {
   "cell_type": "markdown",
   "id": "94d86bcd",
   "metadata": {},
   "source": [
    "#### Задача 8"
   ]
  },
  {
   "cell_type": "markdown",
   "id": "b87eb221",
   "metadata": {},
   "source": [
    "Напишите программу, которая считывает со стандартного ввода целые числа, по одному числу в строке, и после первого введенного нуля выводит сумму полученных на вход чисел.\n",
    "\n",
    "*Эта задача доступна по [ссылке](https://stepik.org/lesson/3364/step/11?thread=solutions&unit=947).*"
   ]
  },
  {
   "cell_type": "code",
   "execution_count": 31,
   "id": "ac9d27c1",
   "metadata": {},
   "outputs": [
    {
     "name": "stdout",
     "output_type": "stream",
     "text": [
      "5\n",
      "6\n",
      "121\n",
      "0\n"
     ]
    },
    {
     "data": {
      "text/plain": [
       "132"
      ]
     },
     "execution_count": 31,
     "metadata": {},
     "output_type": "execute_result"
    }
   ],
   "source": [
    "# инициализируем переменную для ввода целого числа\n",
    "a = int(input())\n",
    "\n",
    "# инициализируем переменную, в которой будет копиться сумма введенных значений\n",
    "sum = 0 \n",
    "\n",
    "# создаем цикл, выполняющий итерации до тех пор, пока очередное введенное число не окажется нулем\n",
    "while a != 0:\n",
    "    sum += a\n",
    "    a = int(input())\n",
    "\n",
    "# выведем на экран сумму всех введенных чисел\n",
    "sum"
   ]
  },
  {
   "cell_type": "markdown",
   "id": "a7224dc6",
   "metadata": {},
   "source": [
    "#### Задача 9"
   ]
  },
  {
   "cell_type": "markdown",
   "id": "1eb52542",
   "metadata": {},
   "source": [
    "В Институте биоинформатики между информатиками и биологами устраивается соревнование. Победителям соревнования достанется большой и вкусный пирог. В команде биологов *a* человек, а в команде информатиков – *b* человек.\n",
    "\n",
    "Нужно заранее разрезать пирог таким образом, чтобы можно было раздать кусочки пирога любой команде, выигравшей соревнование, при этом каждому участнику этой команды должно достаться одинаковое число кусочков пирога. И так как не хочется резать пирог на слишком мелкие кусочки, нужно найти минимальное подходящее число.\n",
    "\n",
    "Напишите программу, которая помогает найти это число.\n",
    "\n",
    "Программа должна считывать размеры команд (два положительных целых числа *a* и *b*, каждое число вводится на отдельной строке) и выводить наименьшее число *d*, которое делится на оба этих числа без остатка.\n",
    "\n",
    "*Эта задача доступна по [ссылке](https://stepik.org/lesson/3364/step/12?unit=947).*"
   ]
  },
  {
   "cell_type": "code",
   "execution_count": 30,
   "id": "8db33193",
   "metadata": {},
   "outputs": [
    {
     "name": "stdout",
     "output_type": "stream",
     "text": [
      "6\n",
      "8\n"
     ]
    },
    {
     "data": {
      "text/plain": [
       "24"
      ]
     },
     "execution_count": 30,
     "metadata": {},
     "output_type": "execute_result"
    }
   ],
   "source": [
    "# инициализируем переменные для ввода количества человек в каждой команде\n",
    "a = abs(int(input()))\n",
    "b = abs(int(input()))\n",
    "\n",
    "# инициализируем переменную с исходным значением для использования в итерациях цикла while\n",
    "d = 1\n",
    "\n",
    "# создаем цикл, выполняющий иттерации до тех пор, пока какой-либо из остатков от деления отличен от нуля\n",
    "while d % a != 0 or d % b != 0:\n",
    "    d += 1 \n",
    "    \n",
    "# выведем на экран минимальное подходящее число\n",
    "d"
   ]
  },
  {
   "cell_type": "markdown",
   "id": "f1415be4",
   "metadata": {},
   "source": [
    "### Операторы break, continue"
   ]
  },
  {
   "cell_type": "markdown",
   "id": "2d54087c",
   "metadata": {},
   "source": [
    "#### Задача 10"
   ]
  },
  {
   "cell_type": "markdown",
   "id": "a6a8399f",
   "metadata": {},
   "source": [
    "Напишите программу, которая считывает целые числа с консоли по одному числу в строке. \n",
    "\n",
    "Для каждого введённого числа проверить:\n",
    "* если число меньше 10, то пропускаем это число,\n",
    "* если число больше 100, то прекращаем считывать числа,\n",
    "* в остальных случаях вывести это число обратно на консоль в отдельной строке.\n",
    "\n",
    "*Эта задача доступна по [ссылке](https://stepik.org/lesson/3365/step/4?unit=948).*"
   ]
  },
  {
   "cell_type": "code",
   "execution_count": 10,
   "id": "662146b3",
   "metadata": {},
   "outputs": [
    {
     "name": "stdout",
     "output_type": "stream",
     "text": [
      "8\n",
      "67\n",
      "67\n",
      "154\n"
     ]
    }
   ],
   "source": [
    "while True:\n",
    "    a = int(input())\n",
    "    if a >= 10 and a <= 100:\n",
    "        print(a)\n",
    "    elif a < 10:\n",
    "        continue\n",
    "    else:\n",
    "        break"
   ]
  },
  {
   "cell_type": "markdown",
   "id": "f45b801d",
   "metadata": {},
   "source": [
    "### Цикл for"
   ]
  },
  {
   "cell_type": "markdown",
   "id": "318f6870",
   "metadata": {},
   "source": [
    "#### Задача 11"
   ]
  },
  {
   "cell_type": "markdown",
   "id": "2b5c63dc",
   "metadata": {},
   "source": [
    "Когда Павел учился в школе, он запоминал таблицу умножения прямоугольными блоками. Для тренировок ему бы очень пригодилась программа, которая показывала бы блок таблицы умножения.\n",
    "\n",
    "Напишите программу, на вход которой даются четыре числа *a*, *b*, *c* и *d*, каждое в своей строке. Программа должна вывести фрагмент таблицы умножения для всех чисел отрезка [*a*; *b*] на все числа отрезка [*c*; *d*].\n",
    "\n",
    "Числа *a*, *b*, *c* и *d* являются натуральными и не превосходят 10, *a* ≤ *b*, *c* ≤ *d*.\n",
    "\n",
    "*Эта задача доступна по [ссылке](https://stepik.org/lesson/3366/step/3?unit=949).*"
   ]
  },
  {
   "cell_type": "code",
   "execution_count": 11,
   "id": "01c141a6",
   "metadata": {},
   "outputs": [
    {
     "name": "stdout",
     "output_type": "stream",
     "text": [
      "5\n",
      "7\n",
      "3\n",
      "6\n",
      "\t 3\t 4\t 5\t 6\n",
      " 5\t 15\t 20\t 25\t 30\n",
      " 6\t 18\t 24\t 30\t 36\n",
      " 7\t 21\t 28\t 35\t 42"
     ]
    }
   ],
   "source": [
    "# инициализируем переменные для ввода чисел;\n",
    "# в переменные b и d добавляется единица для их последующего использования в функции range()\n",
    "a = int(input())\n",
    "b = int(input()) + 1\n",
    "c = int(input())\n",
    "d = int(input()) + 1\n",
    "\n",
    "# для начала выведем на экран числа, располагаемые в верхней части таблицы умножения с соблюдением табуляции\n",
    "for i in range(c, d):\n",
    "    if d >= c and b <= 11:\n",
    "# символ '\\t' добавляет табуляцию перед каждым выводом верхних чисел;\n",
    "# параметр end='' позволяет их выводить на одной строке\n",
    "        print('\\t', i, end='')\n",
    "\n",
    "# на следующем этапе выведем на экран числа, располагаемые в левой части таблицы умножения\n",
    "for j in range(a, b):\n",
    "# символ '\\n' обеспечивает вывод каждого числа на новой строке;\n",
    "# параметр end='' позволяет продолжить выводить на этой же строке результаты умножения двух чисел\n",
    "    if b >= a and b <= 11:\n",
    "        print('\\n', j, end='')\n",
    "# создаем вложенный запрос for для перемножения двух чисел и их добавления в ячейку пересечения;\n",
    "# заполнение таблицы умножения осуществляется построчно с соблюдением режима табуляции;\n",
    "# после заполнения очередной строки в таблице умножения начинается новая итерация изначального (основного) цикла for\n",
    "    for i in range(c, d):\n",
    "        if d >= c and d <= 11:\n",
    "            print('\\t', i*j, end='')"
   ]
  },
  {
   "cell_type": "markdown",
   "id": "d377b8d5",
   "metadata": {},
   "source": [
    "#### Задача 12"
   ]
  },
  {
   "cell_type": "markdown",
   "id": "0895e7ef",
   "metadata": {},
   "source": [
    "Напишите программу, которая считывает с клавиатуры два числа *a* и *b*, считает и выводит на консоль среднее арифметическое всех чисел из отрезка [*a*; *b*], которые кратны числу 3.\n",
    "\n",
    "На вход программе подаются интервалы, внутри которых всегда есть хотя бы одно число, которое делится на 3.\n",
    "\n",
    "*Эта задача доступна по [ссылке](https://stepik.org/lesson/3366/step/7?unit=949).*"
   ]
  },
  {
   "cell_type": "code",
   "execution_count": 33,
   "id": "1953b0f8",
   "metadata": {},
   "outputs": [
    {
     "name": "stdout",
     "output_type": "stream",
     "text": [
      "2\n",
      "45\n"
     ]
    },
    {
     "data": {
      "text/plain": [
       "24.0"
      ]
     },
     "execution_count": 33,
     "metadata": {},
     "output_type": "execute_result"
    }
   ],
   "source": [
    "# инициализируем две переменные для ввода чисел\n",
    "a, b = int(input()), int(input())\n",
    "\n",
    "# инициализируем переменную-счетчик для подсчета суммы чисел, кратных числу 3\n",
    "numbers = 0 \n",
    "\n",
    "# инициализируем переменную-счетчик для подсчета количества чисел, кратных числу 3\n",
    "quantity = 0\n",
    "\n",
    "# создаем цикл for для определения нужной кратности числа в указанном диапазоне, \n",
    "# а также подсчета суммы и количества соответствующих чисел\n",
    "for x in range(a, b+1):\n",
    "    if x % 3 == 0:\n",
    "        numbers += x\n",
    "        quantity += 1\n",
    "\n",
    "# рассчитаем и выведем на экран среднее арифметическое \n",
    "numbers / quantity"
   ]
  },
  {
   "cell_type": "markdown",
   "id": "fa862a44",
   "metadata": {},
   "source": [
    "### Строки и символы"
   ]
  },
  {
   "cell_type": "markdown",
   "id": "4ba0f0a1",
   "metadata": {},
   "source": [
    "#### Задача 13"
   ]
  },
  {
   "cell_type": "markdown",
   "id": "bea82bb3",
   "metadata": {},
   "source": [
    "[GC-состав](https://ru.wikipedia.org/wiki/GC-%D1%81%D0%BE%D1%81%D1%82%D0%B0%D0%B2) является важной характеристикой геномных последовательностей и определяется как процентное соотношение суммы всех гуанинов и цитозинов к общему числу нуклеиновых оснований в геномной последовательности.\n",
    "\n",
    "Напишите программу, которая вычисляет процентное содержание символов *G* (гуанин) и *C* (цитозин) в введенной строке (программа не должна зависеть от регистра вводимых символов).\n",
    "\n",
    "*Эта задача доступна по [ссылке](https://stepik.org/lesson/3367/step/3?unit=950).*"
   ]
  },
  {
   "cell_type": "code",
   "execution_count": 34,
   "id": "b25f660a",
   "metadata": {},
   "outputs": [
    {
     "name": "stdout",
     "output_type": "stream",
     "text": [
      "acggtgttat\n"
     ]
    },
    {
     "data": {
      "text/plain": [
       "40.0"
      ]
     },
     "execution_count": 34,
     "metadata": {},
     "output_type": "execute_result"
    }
   ],
   "source": [
    "# инициализируем переменную gc_structure для ввода строки с приведением всех символов к нижнеме регистру\n",
    "gc_structure = input().lower()\n",
    "\n",
    "# инициализируем переменные-счетчики для подсчета количества символов G и C (незавимисот от регистра) в введенной строке,\n",
    "# а также  общего количества символов в самой строке\n",
    "gc_counts = 0\n",
    "total_count = 0\n",
    "\n",
    "# с помощью цикла for посчитаем количество нужных символов в введенной строке и общее количество символов в самой строке\n",
    "for x in gc_structure:\n",
    "    if x == 'g' or x == 'c':\n",
    "        gc_counts += 1 \n",
    "    total_count += 1 \n",
    "\n",
    "# рассчитаем процентное содержание соответствующих символов в введенной строке\n",
    "percent_level = (gc_counts / total_count) * 100\n",
    "\n",
    "# выведем на экран результат расчета\n",
    "percent_level"
   ]
  },
  {
   "cell_type": "markdown",
   "id": "86175e86",
   "metadata": {},
   "source": [
    "#### Задача 14"
   ]
  },
  {
   "cell_type": "markdown",
   "id": "e5cc3118",
   "metadata": {},
   "source": [
    "Узнав, что ДНК не является случайной строкой, только что поступившие в Институт биоинформатики студенты группы информатиков предложили использовать алгоритм сжатия, который сжимает повторяющиеся символы в строке.\n",
    "\n",
    "Кодирование осуществляется следующим образом: s = 'aaaabbсaa' преобразуется в 'a4b2с1a2', т. е. группы одинаковых символов исходной строки заменяются на этот символ и количество его повторений в этой позиции строки.\n",
    "\n",
    "Напишите программу, которая считывает строку, кодирует её предложенным алгоритмом и выводит закодированную последовательность на стандартный вывод. Кодирование должно учитывать регистр символов.\n",
    "\n",
    "*Эта задача доступна по [ссылке](https://stepik.org/lesson/3367/step/7?thread=solutions&unit=950).*"
   ]
  },
  {
   "cell_type": "code",
   "execution_count": 35,
   "id": "0f2bc73e",
   "metadata": {},
   "outputs": [
    {
     "name": "stdout",
     "output_type": "stream",
     "text": [
      "aaaabbcaa\n"
     ]
    },
    {
     "data": {
      "text/plain": [
       "'a4b2c1a2'"
      ]
     },
     "execution_count": 35,
     "metadata": {},
     "output_type": "execute_result"
    }
   ],
   "source": [
    "# инициализируем переменную для ввода строки (для последующего его преобразования)\n",
    "text = input()\n",
    "\n",
    "# задаем изначальные значения двух индексов a и b для сравнения символов в введенной строке в цикле while\n",
    "a = 0\n",
    "b = a + 1\n",
    "\n",
    "# определяем длину вводимой строки за вычетом единицы для последующего использования в цикле while\n",
    "c = len(text) - 1\n",
    "\n",
    "# зададим изначальное (минимальное) количество каждого встречающегося символа в вводимой строке \n",
    "q = 1\n",
    "\n",
    "# создадим переменную conc типа str для постепенного добавления в нее элементов конечного результата\n",
    "conc = ''\n",
    "\n",
    "# создаем цикл while, который будет срабатывать до тех пор, \n",
    "# пока значение индекса последнего символа в вводимой строке (переменная a) не сравняется со значением переменной с \n",
    "while a < c:\n",
    "# в случае если два рядом стоящих символа совпадают друг с другом, добавляется единица к переменным a, b, q\n",
    "    if text[a] == text[b]:\n",
    "        a += 1\n",
    "        b += 1\n",
    "        q += 1\n",
    "# в случае если два рядом стоящих символа не совпадают друг с другом, \n",
    "# в переменную conc добавляется предшествующий (левый от знака !=) символ, после чего указывается его количество\n",
    "    elif text[a] != text[b]:\n",
    "        conc += text[a] + str(q)\n",
    "        q = 1\n",
    "        a += 1\n",
    "        b += 1\n",
    "        \n",
    "# после того, как цикл while выполнил все итерации, \n",
    "# в переменную conc добавляется значение последнего символа в вводимой строке и его количество из переменной q\n",
    "conc += text[-1] + str(q)\n",
    "\n",
    "# выведем на экран полученный результат\n",
    "conc"
   ]
  },
  {
   "cell_type": "markdown",
   "id": "8fc9a034",
   "metadata": {},
   "source": [
    "### Списки"
   ]
  },
  {
   "cell_type": "markdown",
   "id": "96e28a60",
   "metadata": {},
   "source": [
    "#### Задача 15"
   ]
  },
  {
   "cell_type": "markdown",
   "id": "9c8de26e",
   "metadata": {},
   "source": [
    "Напишите программу, на вход которой подается одна строка с целыми числами. Программа должна вывести сумму этих чисел.\n",
    "\n",
    "Используйте метод *split* для строки. \n",
    "\n",
    "*Эта задача доступна по [ссылке](https://stepik.org/lesson/3368/step/10?unit=951).*"
   ]
  },
  {
   "cell_type": "code",
   "execution_count": 29,
   "id": "ef47806e",
   "metadata": {},
   "outputs": [
    {
     "name": "stdout",
     "output_type": "stream",
     "text": [
      "1 15 854 1021 95\n"
     ]
    },
    {
     "data": {
      "text/plain": [
       "1986"
      ]
     },
     "execution_count": 29,
     "metadata": {},
     "output_type": "execute_result"
    }
   ],
   "source": [
    "# c помощью list comprehension создаем список, состоящий из чисел, вводимые через пробел\n",
    "numbers = [int(x) for x in input().split()]\n",
    "\n",
    "# инициализируем переменную для подсчета суммы чисел в списке\n",
    "conclusion = 0\n",
    "\n",
    "# с помощью цикла for считаем сумму всех чисел в списке\n",
    "for x in numbers:\n",
    "    conclusion += x\n",
    "\n",
    "# выведем конечный результат на экран\n",
    "conclusion"
   ]
  },
  {
   "cell_type": "markdown",
   "id": "b50e2d86",
   "metadata": {},
   "source": [
    "#### Задача 16"
   ]
  },
  {
   "cell_type": "markdown",
   "id": "adf42689",
   "metadata": {},
   "source": [
    "Напишите программу, на вход которой подаётся список чисел одной строкой. Программа должна для каждого элемента этого списка вывести сумму двух его соседей. Для элементов списка, являющихся крайними, одним из соседей считается элемент, находящий на противоположном конце этого списка. Например, если на вход подаётся список «1 3 5 6 10», то на выход ожидается список «13 6 9 15 7» (без кавычек).\n",
    "\n",
    "Если на вход пришло только одно число, надо вывести его же.\n",
    "\n",
    "Вывод должен содержать одну строку с числами нового списка, разделёнными пробелом.\n",
    "\n",
    "*Эта задача доступна по [ссылке](https://stepik.org/lesson/3368/step/11?unit=951).*"
   ]
  },
  {
   "cell_type": "code",
   "execution_count": 36,
   "id": "6dd34b95",
   "metadata": {},
   "outputs": [
    {
     "name": "stdout",
     "output_type": "stream",
     "text": [
      "15 2 3 8 6 11 10\n"
     ]
    },
    {
     "data": {
      "text/plain": [
       "'12 18 10 9 19 16 26'"
      ]
     },
     "execution_count": 36,
     "metadata": {},
     "output_type": "execute_result"
    }
   ],
   "source": [
    "# c помощью list comprehension создаем список, состоящий из чисел, вводимые через пробел\n",
    "numbers = [int(x) for x in input().split()]\n",
    "\n",
    "# сохраним в переменной индекс первого элемента в списке\n",
    "first_index = 0\n",
    "\n",
    "# сохраним в переменной индекс последнего элемента в списке\n",
    "last_index = len(numbers) - 1\n",
    "\n",
    "# определим длину списка, значение которого будет использоваться для последующей установки диапазона индексов в цикле for\n",
    "length = len(numbers)\n",
    "\n",
    "# зададим переменную, которая будет наполняться после каждой итерации цикла for\n",
    "conc = ''\n",
    "\n",
    "for i in range(length):\n",
    "# определим порядок выполнения операций, если в списке содержится больше одного элемента\n",
    "    if length > 1:\n",
    "# сценарий для первого числа в списке в соответствие с условиями задачи\n",
    "        if i == first_index:\n",
    "            conc += str(numbers[i + 1] + numbers[last_index])\n",
    "# разделим значения, добавляемые в переменную conc, пробелом\n",
    "            conc += ' '\n",
    "# сценарий для последнего числа в списке в соответствие с условиями задачи\n",
    "        elif i == last_index:\n",
    "            conc += str(numbers[first_index] + numbers[i-1])\n",
    "# сценарий для всех остальных чисел в соответствие с условиями задачи\n",
    "        else:\n",
    "            conc += str(numbers[i-1] + numbers[i+1])\n",
    "# разделим значения, добавляемые в переменную conc, пробелом    \n",
    "            conc += ' '\n",
    "# если список состоит лишь из одного элемента, то выводимый результат будет равен ранее введенному значению\n",
    "    else:\n",
    "        conc += str(numbers[i])\n",
    "\n",
    "# выведем на экран полученный результат\n",
    "conc"
   ]
  },
  {
   "cell_type": "markdown",
   "id": "0ff1724c",
   "metadata": {},
   "source": [
    "#### Задача 17"
   ]
  },
  {
   "cell_type": "markdown",
   "id": "66c5a989",
   "metadata": {},
   "source": [
    "Напишите программу, которая принимает на вход список чисел в одной строке и выводит на экран в одну строку значения, которые встречаются в нём более одного раза.\n",
    "\n",
    "Для решения задачи может пригодиться метод *sort* для списка.\n",
    "\n",
    "Выводимые числа не должны повторяться, порядок их вывода может быть произвольным.\n",
    "\n",
    "*Эта задача доступна по [ссылке](https://stepik.org/lesson/3368/step/12?unit=951).*"
   ]
  },
  {
   "cell_type": "code",
   "execution_count": 106,
   "id": "4a9479f7",
   "metadata": {},
   "outputs": [
    {
     "name": "stdout",
     "output_type": "stream",
     "text": [
      "4 5 98 65 98 5 0 1 2 5 4\n"
     ]
    },
    {
     "data": {
      "text/plain": [
       "'4 5 98'"
      ]
     },
     "execution_count": 106,
     "metadata": {},
     "output_type": "execute_result"
    }
   ],
   "source": [
    "# c помощью list comprehension создаем список, состоящий из чисел, вводимые через пробел\n",
    "numbers = [int(x) for x in input().split()]\n",
    "\n",
    "# сортируем список в порядке возрастания с помощью метода sort\n",
    "numbers.sort()\n",
    "\n",
    "# создаем пустой список для последующего использования в цикле for,\n",
    "# а также осуществления проверки на необходимость включения числа в итоговый вывод\n",
    "numbers_check = []\n",
    "\n",
    "# инициализируем переменную, в которую будут заноситься числа, удовлетворяющие условиям задачи\n",
    "conc = ''\n",
    "\n",
    "# определим длину списка с числами для использования в цикле for\n",
    "length = len(numbers)\n",
    "\n",
    "# создаем цикл for для заполнения переменной conc\n",
    "for i in range(length):\n",
    "# фиксируем условие if, считающее количество каждого из чисел в списке и проверяющее отсутствие этого числа в numbers_check \n",
    "    if numbers.count(numbers[i]) > 1 and numbers[i] not in numbers_check:\n",
    "        numbers_check.append(numbers[i])\n",
    "# добавляем значение, встречающееся в списке numbers более одного раза, с добавлением одного пробела\n",
    "        conc += str(numbers[i]) + ' '\n",
    "\n",
    "# выведем на экран полученный результат c удалением пробела в конце строки (т. е. используем метод strip())\n",
    "conc.strip()"
   ]
  },
  {
   "cell_type": "markdown",
   "id": "18a8e20c",
   "metadata": {},
   "source": [
    "### Задачи по материалам недели"
   ]
  },
  {
   "cell_type": "markdown",
   "id": "2c78d7f2",
   "metadata": {},
   "source": [
    "#### Задача 18"
   ]
  },
  {
   "cell_type": "markdown",
   "id": "64aa344c",
   "metadata": {},
   "source": [
    "Напишите программу, которая считывает с консоли числа (по одному в строке) до тех пор, пока сумма введённых чисел не будет равна 0 и сразу после этого выводит сумму квадратов всех считанных чисел.\n",
    "\n",
    "Гарантируется, что в какой-то момент сумма введённых чисел окажется равной 0, после этого считывание продолжать не нужно.\n",
    "\n",
    "*Эта задача доступна по [ссылке](https://stepik.org/lesson/3369/step/7?unit=952).*"
   ]
  },
  {
   "cell_type": "code",
   "execution_count": 39,
   "id": "38cc5097",
   "metadata": {},
   "outputs": [
    {
     "name": "stdout",
     "output_type": "stream",
     "text": [
      "1\n",
      "-3\n",
      "5\n",
      "-6\n",
      "-10\n",
      "13\n",
      "340\n"
     ]
    }
   ],
   "source": [
    "# инициализируем две переменные для вводы первых двух целых чисел\n",
    "a = int(input())\n",
    "b = int(input())\n",
    "\n",
    "# инициализируем переменную null и сохраним в ней значения нуля, \n",
    "# которая будет выводиться в случае если сумма одного (точнее – первого) числа равна нулю\n",
    "null = 0\n",
    "\n",
    "# создаем переменную condition для использования в цикле while\n",
    "condition = a + b \n",
    "\n",
    "# инициализируем переменную, в которой изначально сохраняем сумму квадратов введенных значений a и b, \n",
    "# и к которой могут добавляться значения квадратов остальных значений – пока сумма введенных чисел не будет равна нулю\n",
    "conc = a**2 + b**2\n",
    "\n",
    "# задаем условия и используем вложенный цикл while\n",
    "if a == 0:\n",
    "    print(null)\n",
    "else:\n",
    "    while condition != 0:\n",
    "# предлагается ввести дополнительное число\n",
    "        c = int(input())\n",
    "# проверяемое на вход в цикл while условие condition пополняется вновь введенным значением из переменной с\n",
    "        condition += c\n",
    "# добавляем в переменную конечного вывода квадрат значения из переменной с\n",
    "        conc += c**2\n",
    "# после всех итераций цикла while выводим на экран сумму квадратов всех считанных чисел\n",
    "    print(conc)"
   ]
  },
  {
   "cell_type": "markdown",
   "id": "6edb5674",
   "metadata": {},
   "source": [
    "#### Задача 19"
   ]
  },
  {
   "cell_type": "markdown",
   "id": "11728093",
   "metadata": {},
   "source": [
    "Напишите программу, которая выводит часть последовательности 1 2 2 3 3 3 4 4 4 4 5 5 5 5 5... (число повторяется столько раз, чему равно). На вход программе передаётся неотрицательное целое число *n* – столько элементов последовательности должна отобразить программа. На выходе ожидается последовательность чисел, записанных через пробел в одну строку.\n",
    "\n",
    "Например, если n = 7, то программа должна вывести 1 2 2 3 3 3 4.\n",
    "\n",
    "*Эта задача доступна по [ссылке](https://stepik.org/lesson/3369/step/8?unit=952).*"
   ]
  },
  {
   "cell_type": "code",
   "execution_count": 41,
   "id": "b2e430b1",
   "metadata": {},
   "outputs": [
    {
     "name": "stdout",
     "output_type": "stream",
     "text": [
      "7\n",
      "1 2 2 3 3 3 4\n"
     ]
    }
   ],
   "source": [
    "# инициализируем переменную для ввода числа элементов к выводу на экран\n",
    "n = abs(int(input()))\n",
    "\n",
    "# инициализируем переменную conc для подготовки конечного результата в соответствии с условиями задачи\n",
    "conc = []\n",
    "\n",
    "# переменная i отвечает за конкретное число для вывода на экран в порядке возрастания, начиная с 1\n",
    "for i in range(1, n+1):\n",
    "# переменная j отвечает за количество повторений того или иного числа\n",
    "    for j in range(1, n+1):\n",
    "# пока число повторений j не превысило значение числа i – в список conc добавляется число i\n",
    "        while j <= i:\n",
    "            conc.append(i)\n",
    "# после добавления в список conc числа i исполнение программы начинается со вложенного цикла for\n",
    "            break\n",
    "\n",
    "# указываем диапазон, соответствующий условиям задачи, и выводим на экран полученный результат без квадратных скобок\n",
    "conc = conc[:n]\n",
    "print(*conc)"
   ]
  },
  {
   "cell_type": "markdown",
   "id": "2e90a707",
   "metadata": {},
   "source": [
    "#### Задача 20"
   ]
  },
  {
   "cell_type": "markdown",
   "id": "22b2be9d",
   "metadata": {},
   "source": [
    "Напишите программу, которая считывает список чисел *lst* из первой строки и число *x* из второй строки, которая выводит все позиции, на которых встречается число *x* в переданном списке *lst*.\n",
    "\n",
    "Позиции нумеруются с нуля, если число *x* не встречается в списке, вывести строку «Отсутствует» (без кавычек, с большой буквы).\n",
    "\n",
    "Позиции должны быть выведены в одну строку, по возрастанию абсолютного значения.\n",
    "\n",
    "*Эта задача доступна по [ссылке](https://stepik.org/lesson/3369/step/9?unit=952).*"
   ]
  },
  {
   "cell_type": "code",
   "execution_count": 42,
   "id": "34eea0d0",
   "metadata": {},
   "outputs": [
    {
     "name": "stdout",
     "output_type": "stream",
     "text": [
      "5 8 2 7 8 8 2 4\n",
      "10\n",
      "Отсутствует\n"
     ]
    }
   ],
   "source": [
    "# вводим значения в список list и в переменную x\n",
    "list = [int(y) for y in input().split()]\n",
    "x = int(input())\n",
    "\n",
    "# инициализиуем пустой список для накопления ответа, соответствующего условиям задачи\n",
    "conc = []\n",
    "\n",
    "# если значение x будет присутствовать в списке list, то индекс этого значения в списке будет занесен в список conc\n",
    "for i in range(len(list)):\n",
    "    if list[i] == x:\n",
    "        conc.append(i)\n",
    "               \n",
    "# если длина списка conc больше нуля, то на экран будут выведены значения списка после его распаковки, \n",
    "# т. е. без запятых и квадратных скобок\n",
    "if len(conc) > 0:\n",
    "    print(*conc)\n",
    "# если значение x не оказалось в списке list, то на экран будет выведено информация о его отсутствии в списке\n",
    "else:\n",
    "    print('Отсутствует')"
   ]
  },
  {
   "cell_type": "markdown",
   "id": "c671caf6",
   "metadata": {},
   "source": [
    "#### Задача 21"
   ]
  },
  {
   "cell_type": "markdown",
   "id": "3b79e7b9",
   "metadata": {},
   "source": [
    "Напишите программу, на вход которой подаётся прямоугольная матрица в виде последовательности строк. После последней строки матрицы идёт строка, содержащая только строку «end» (без кавычек).\n",
    "\n",
    "Программа должна вывести матрицу того же размера, у которой каждый элемент в позиции *i*, *j* равен сумме элементов первой матрицы на позициях *(i-1, j)*, *(i+1, j)*, *(i, j-1)*, *(i, j+1)*. У крайних символов соседний элемент находится с противоположной стороны матрицы.\n",
    "\n",
    "В случае одной строки/столбца элемент сам себе является соседом по соответствующему направлению.\n",
    "\n",
    "*Эта задача доступна по [ссылке](https://stepik.org/lesson/3369/step/10?unit=952).*"
   ]
  },
  {
   "cell_type": "code",
   "execution_count": 44,
   "id": "c75f94e6",
   "metadata": {},
   "outputs": [
    {
     "name": "stdout",
     "output_type": "stream",
     "text": [
      "9 5 3\n",
      "0 7 -1\n",
      "-5 2 9\n",
      "end\n",
      "3 21 22 \n",
      "10 6 19 \n",
      "20 16 -1 \n"
     ]
    }
   ],
   "source": [
    "# инициализируем переменную с пустым списком для накопления всех введенных в программу чисел\n",
    "list = []\n",
    "\n",
    "while True:\n",
    "# введенные с пробелом значения преобразуются в список и сохраняются в переменной numbers\n",
    "    numbers = input().split()\n",
    "# если первый элемент списка соответствует значению «end», то работа цикла while на этом прекращается\n",
    "    if numbers[0] == 'end':\n",
    "        break\n",
    "    else:\n",
    "        numbers = [int(x) for x in numbers]\n",
    "        list.append(numbers)\n",
    "\n",
    "# инициализируем переменные с длиной и шириной матрицы соответственно\n",
    "rows = len(list)\n",
    "columns = len(list[0])\n",
    "\n",
    "for r in range(rows):\n",
    "    for c in range(columns):\n",
    "# для каждого пересечения номера строки и номера столбца считаем сумму всех значений в соответствие с условиями задачи\n",
    "        x = list[r-1][c] + list[(r+1) % len(list)][c] + list[r][c-1] + list[r][(c+1) % len(list[r])]\n",
    "# выводим на экран каждое значение x в рамках выполнения вложенного цикла for на одной строке с пробелом\n",
    "        print(x, end = ' ')\n",
    "# переход на новую строку после выполнения всех действий вложенного цикла for\n",
    "    print()"
   ]
  },
  {
   "cell_type": "markdown",
   "id": "e8259778",
   "metadata": {},
   "source": [
    "#### Задача 22"
   ]
  },
  {
   "cell_type": "markdown",
   "id": "6208bcc1",
   "metadata": {},
   "source": [
    "Выведите таблицу размером *n* × *n*, заполненную числами от 1 до *n* в квадрате по спирали, выходящей из левого верхнего угла и закрученной по часовой стрелке.\n",
    "\n",
    "*Эта задача доступна по [ссылке](https://stepik.org/lesson/3369/step/11?unit=952).*"
   ]
  },
  {
   "cell_type": "code",
   "execution_count": 45,
   "id": "dd133269",
   "metadata": {},
   "outputs": [
    {
     "name": "stdout",
     "output_type": "stream",
     "text": [
      "6\n",
      " 1  2  3  4  5  6 \n",
      "20 21 22 23 24  7 \n",
      "19 32 33 34 25  8 \n",
      "18 31 36 35 26  9 \n",
      "17 30 29 28 27 10 \n",
      "16 15 14 13 12 11 \n"
     ]
    }
   ],
   "source": [
    "# вводим число, определяющее размерность матрицы\n",
    "size = int(input())\n",
    "\n",
    "# создаем матрицу с одинаковым количеством строк и столбцов – на данном этапе все значения в списке будут нулевыми\n",
    "matrix = [[0]*size for x in range(size)]\n",
    "\n",
    "# фиксируем изначальное значение, с которого начнется запись в первую ячейку матрицы\n",
    "value = 1\n",
    "\n",
    "# устанавливаем изначальные значения c номерами строки и столбца ячейки соответственно\n",
    "row = 0\n",
    "column = -1\n",
    "\n",
    "# инициализируем переменные со значениями для движения по рядам и столбцам соответственно:\n",
    "# при ros_mov = -1 движение в матрице осуществляется снизу вверх, т. е. позиция строки каждой последующей ячейки уменьшается\n",
    "# при ros_mov = 1 движение в матрице осуществляется сверху вниз, т. е. позиция строки каждой последующей ячейки увеличивается\n",
    "# при ros_mov = 0 движение по ячейкам осуществляется в том же ряду\n",
    "row_mov = 0\n",
    "# движение по столбцам начинается с движения слева направо, отчего номер столбца каждой ячейки будет увеличиваться на единицу\n",
    "column_mov = 1\n",
    "\n",
    "# цикл будет срабатывать до тех пор, пока значение для заполнения ячейки не превысит количество ячеек в матрице\n",
    "while value <= size**2:\n",
    "# добавляем условие – если номер строки и номер столбца очередной ячейки не выходит за пределы матрицы и не является нулем,\n",
    "# то она заполняется значением value\n",
    "    if 0 <= (row + row_mov) < size and \\\n",
    "    0 <= (column + column_mov) < size and \\\n",
    "    matrix[row + row_mov][column + column_mov] == 0:\n",
    "        row += row_mov\n",
    "        column += column_mov\n",
    "        matrix[row][column] = value\n",
    "        value += 1 \n",
    "# если по условию if номер строки или номер столбца не умещается в размерность матрицы или значение ячейки не равно нулю,\n",
    "# то в таком случае должен сработать один из следующих сценариев, прописанных в условии else\n",
    "    else:\n",
    "# если движение по ячейкам осуществляется слева направо (т. е. номер столбца каждой ячейки увеличивается на единицу), \n",
    "# то дальнейшее движение должно продолжатся сверху вниз    \n",
    "        if column_mov == 1:\n",
    "            column_mov = 0\n",
    "            row_mov = 1\n",
    "# если движение по ячейкам осуществляется сверху вниз (т. е. номер строки каждой ячейки увеличивается на единицу), \n",
    "# то дальнейшее движение должно продолжатся справо налево\n",
    "        elif row_mov == 1:\n",
    "            column_mov = -1 \n",
    "            row_mov = 0\n",
    "# если движение по ячейкам осуществляется справо налево (т. е. номер столбца каждой ячейки уменьшается на единицу), \n",
    "# то дальнейшее движение должно продолжатся снизу вверх\n",
    "        elif column_mov == -1:\n",
    "            column_mov = 0\n",
    "            row_mov = -1\n",
    "# если движение по ячейкам осуществляется снизу вверх (т. е. номер строки уменьшается на единицу), \n",
    "# то дальнейшее движение должно продолжатся слева направо\n",
    "        elif row_mov == -1:\n",
    "            column_mov = 1 \n",
    "            row_mov = 0\n",
    "\n",
    "# готовим ответ вне списка, для чего каждый вложенный список выводим на отдельной строке\n",
    "for row in matrix:\n",
    "    for element in row:\n",
    "# поскольку значения в ячейках отличаются своей размерностью,\n",
    "# то преобразуем их тип данных и воспользуемся функцией rjust()\n",
    "        print(str(element).rjust(len(str(size**2))), end = ' ')\n",
    "    print()"
   ]
  },
  {
   "cell_type": "markdown",
   "id": "252426b8",
   "metadata": {},
   "source": [
    "## Тема «Функции. Словари. Интерпретатор. Файлы. Модули»"
   ]
  },
  {
   "cell_type": "markdown",
   "id": "370457b2",
   "metadata": {},
   "source": [
    "### Функции"
   ]
  },
  {
   "cell_type": "markdown",
   "id": "8e33b421",
   "metadata": {},
   "source": [
    "#### Задача 23"
   ]
  },
  {
   "cell_type": "markdown",
   "id": "d3293760",
   "metadata": {},
   "source": [
    "Напишите функцию *f(x)*, которая возвращает значение следующей функции, определённой на всей числовой прямой:\n",
    "\n",
    "![](функции_первая_задача.PNG)\n",
    "\n",
    "Требуется реализовать только функцию, решение не должно осуществлять операций ввода-вывода.\n",
    "\n",
    "*Эта задача доступна по [ссылке](https://stepik.org/lesson/3372/step/8?unit=955).*"
   ]
  },
  {
   "cell_type": "code",
   "execution_count": 46,
   "id": "12ad15be",
   "metadata": {},
   "outputs": [],
   "source": [
    "def f(x):\n",
    "    if x <= -2:\n",
    "        result = 1 - (x + 2)**2 \n",
    "    elif -2 < x <= 2:\n",
    "        result = -x * 0.5\n",
    "    else:\n",
    "        result = (x - 2)**2 + 1 \n",
    "    return result"
   ]
  },
  {
   "cell_type": "code",
   "execution_count": 47,
   "id": "1ac8cf12",
   "metadata": {},
   "outputs": [
    {
     "data": {
      "text/plain": [
       "21.25"
      ]
     },
     "execution_count": 47,
     "metadata": {},
     "output_type": "execute_result"
    }
   ],
   "source": [
    "# вызовем функцию f(x) для числа 6.5 и посмотрим на полученный результат\n",
    "f(6.5)"
   ]
  },
  {
   "cell_type": "markdown",
   "id": "eca57496",
   "metadata": {},
   "source": [
    "#### Задача 24"
   ]
  },
  {
   "cell_type": "markdown",
   "id": "33f936c3",
   "metadata": {},
   "source": [
    "Напишите функцию *modify_list(l)*, которая принимает на вход список целых чисел, удаляет из него все нечётные значения, а чётные – делит **нацело** на два. Функция не должна ничего возвращать, требуется только изменение переданного списка, например:\n",
    "\n",
    "![](функции_вторая_задача.PNG)\n",
    "\n",
    "Функция не должна осуществлять ввод/вывод информации.\n",
    "\n",
    "*Эта задача доступна по [ссылке](https://stepik.org/lesson/3372/step/9?unit=955).*"
   ]
  },
  {
   "cell_type": "code",
   "execution_count": 48,
   "id": "ff0925d8",
   "metadata": {},
   "outputs": [],
   "source": [
    "def modify_list(l):\n",
    "# создадим внутри функции цикл for и обратимся к каждому элементу списка l в обратном порядке – именно в обратном, \n",
    "# поскольку удаление элемента с наименьшим индексом приведет к пропуску иттерации с другим элементом списка;\n",
    "# в противном случае: цикл for начинает исполнение с i=0, проверяет элемент согласно заданному условию, \n",
    "# признает его нечетным и удаляет из списка – в таком случае на позицию i=0 помещается элемент, \n",
    "# стоящий после удаленного, а иттерация с этим элементом будет пропущена, поскольку его индекс теперь i=0, \n",
    "# а следующая иттерация цикла осуществляется с i=1\n",
    "    for i in range((len(l) - 1), -1, -1):\n",
    "        if l[i] % 2 == 0:\n",
    "            l[i] = round(l[i] / 2)\n",
    "        else:\n",
    "            del l[i]\n",
    "    return l"
   ]
  },
  {
   "cell_type": "code",
   "execution_count": 51,
   "id": "0133e3a9",
   "metadata": {},
   "outputs": [
    {
     "name": "stdout",
     "output_type": "stream",
     "text": [
      "11 25 9 8 3 6 54\n"
     ]
    }
   ],
   "source": [
    "# с помощью list comprehension создадим новый список \n",
    "new_list = [int(x) for x in input().split()]"
   ]
  },
  {
   "cell_type": "code",
   "execution_count": 52,
   "id": "ed2ae401",
   "metadata": {},
   "outputs": [
    {
     "data": {
      "text/plain": [
       "[4, 3, 27]"
      ]
     },
     "execution_count": 52,
     "metadata": {},
     "output_type": "execute_result"
    }
   ],
   "source": [
    "# применим написанную функцию для созданного списка new_list\n",
    "modify_list(new_list)"
   ]
  },
  {
   "cell_type": "markdown",
   "id": "35fef5fc",
   "metadata": {},
   "source": [
    "### Словари"
   ]
  },
  {
   "cell_type": "markdown",
   "id": "0045415e",
   "metadata": {},
   "source": [
    "#### Задача 25"
   ]
  },
  {
   "cell_type": "markdown",
   "id": "0cb83074",
   "metadata": {},
   "source": [
    "Напишите функцию *update_dictionary(d, key, value)*, которая принимает на вход словарь *d* и два числа: *key* и *value*.\n",
    "\n",
    "Если ключ *key* есть в словаре *d*, то добавьте значение *value* в список, который хранится по этому ключу. Если ключа *key* нет в словаре, то нужно добавить значение в список по ключу *2∗key*. Если и ключа *2∗key* нет, то нужно добавить ключ *2∗key* в словарь и сопоставить ему список из переданного элемента *\\[value]*.\n",
    "\n",
    "Требуется реализовать только эту функцию, кода вне её не должно быть. Функция не должна вызывать внутри себя функции *input* и *print*.\n",
    "\n",
    "Пример работы функции:\n",
    "![](словари_первая_задача.PNG)\n",
    "\n",
    "*Эта задача доступна по [ссылке](https://stepik.org/lesson/3373/step/5?unit=956).*"
   ]
  },
  {
   "cell_type": "code",
   "execution_count": 104,
   "id": "3c773b33",
   "metadata": {},
   "outputs": [],
   "source": [
    "def update_dictionary(d, key, value):\n",
    "# если параметр key имеется среди ключей в словаре d, то к значению этого ключа в словаре будет добавлен параметр value\n",
    "    if key in d.keys():\n",
    "        d[key].append(value)\n",
    "# если в словаре d имеется ключ, равный 2*key, то к значению по этому ключу в словаре будет добавлен параметр value\n",
    "    elif 2*key in d.keys():\n",
    "        d[2*key].append(value)\n",
    "# в противном случае в словарь d будет добавлена новая пара «ключ: значение»\n",
    "    else:\n",
    "        d[2*key] = [value]\n",
    "    return d "
   ]
  },
  {
   "cell_type": "code",
   "execution_count": 60,
   "id": "3d69e312",
   "metadata": {},
   "outputs": [],
   "source": [
    "# создадим новый словарь, который будет являться первым параметром в написанной функции\n",
    "new_dict = {2: [5], 4: [6], 6: [8]}\n",
    "\n",
    "# инициализируем переменную со значением ключа, которая будет являться вторым параметром в написанной функции\n",
    "new_key = 3\n",
    "\n",
    "# инициализируем значение третьего параметра для написанной функции\n",
    "new_value = 10"
   ]
  },
  {
   "cell_type": "code",
   "execution_count": 61,
   "id": "805e71c1",
   "metadata": {},
   "outputs": [
    {
     "data": {
      "text/plain": [
       "{2: [5], 4: [6], 6: [8, 10]}"
      ]
     },
     "execution_count": 61,
     "metadata": {},
     "output_type": "execute_result"
    }
   ],
   "source": [
    "# применим функцию update_dictionary со значениями параметров new_dict, new_key, new_value\n",
    "update_dictionary(new_dict, new_key, new_value)"
   ]
  },
  {
   "cell_type": "markdown",
   "id": "a4d7cc6a",
   "metadata": {},
   "source": [
    "#### Задача 26"
   ]
  },
  {
   "cell_type": "markdown",
   "id": "b43c3fbd",
   "metadata": {},
   "source": [
    "Когда Антон прочитал «Войну и мир», ему стало интересно, сколько слов и в каком количестве используется в этой книге.\n",
    "\n",
    "Помогите Антону написать упрощённую версию такой программы, которая сможет подсчитать слова, разделённые пробелом и вывести получившуюся статистику.\n",
    "\n",
    "Программа должна считывать одну строку со стандартного ввода и выводить для каждого уникального слова в этой строке число его повторений (**без учёта регистра**) в формате «слово количество» (см. пример вывода ниже).\n",
    "\n",
    "Порядок вывода слов может быть произвольным, каждое уникальное слово должно выводиться только один раз.\n",
    "\n",
    "**Sample Input:**  \n",
    "a aa abC aa ac abc bcd a\n",
    "\n",
    "**Sample Output:**  \n",
    "ac 1\\\n",
    "a 2\\\n",
    "abc 2\\\n",
    "bcd 1\\\n",
    "aa 2\n",
    "\n",
    "*Эта задача доступна по [ссылке](https://stepik.org/lesson/3373/step/6?unit=956).*"
   ]
  },
  {
   "cell_type": "code",
   "execution_count": 62,
   "id": "b46c51e2",
   "metadata": {
    "scrolled": true
   },
   "outputs": [
    {
     "name": "stdout",
     "output_type": "stream",
     "text": [
      "a aa abC aa ac abc bcd a a aa ac\n",
      "a 3\n",
      "aa 3\n",
      "abc 2\n",
      "ac 2\n",
      "bcd 1\n"
     ]
    }
   ],
   "source": [
    "# c помощью list comprehension создаем список, состоящий из буквенных символов, вводимые через пробел\n",
    "text = [str(x).lower() for x in input().split()]\n",
    "\n",
    "# создаем пустой словарь dictionary\n",
    "dictionary = {}\n",
    "\n",
    "# заносим в словарь в качестве ключа уникальные значения из списка text, \n",
    "# а в качестве самих значений – их количество в списке\n",
    "for value in text:\n",
    "    if value not in dictionary:\n",
    "        dictionary[value] = 1 \n",
    "    else:\n",
    "        dictionary[value] += 1 \n",
    "\n",
    "# выводим на экран каждое соотношение по типу «ключ: значение» на новой строке\n",
    "for key, value in dictionary.items():\n",
    "    print(key, value)"
   ]
  },
  {
   "cell_type": "markdown",
   "id": "10b4e995",
   "metadata": {},
   "source": [
    "#### Задача 27"
   ]
  },
  {
   "cell_type": "markdown",
   "id": "5bbee2d2",
   "metadata": {},
   "source": [
    "Напишите программу, которая считывает строку с числом *n*, которое задаёт количество чисел, которые нужно считать. Далее считывает *n* строк с числами *x(i)*, по одному числу в каждой строке. Итого будет *n+1* строк.\n",
    "\n",
    "При считывании числа *x(i)* программа должна на отдельной строке вывести значение *f(x(i))*. Функция *f(x)* уже реализована и доступна для вызова. \n",
    "\n",
    "Функция вычисляется достаточно долго и зависит только от переданного аргумента *x*. Для того, чтобы уложиться в ограничение по времени, нужно избежать повторного вычисления значений.\n",
    "\n",
    "Важное уточнение: поскольку функция *f(x)* реализована и доступна для вызова непосредственно на платформе *Stepik*, то в этой тетрадке написанная ниже программа не может быть выполнена корректно, а потому и не запускается.\n",
    "\n",
    "**Sample Input:**  \n",
    "5\\\n",
    "5\\\n",
    "12\\\n",
    "9\\\n",
    "20\\\n",
    "12\n",
    "\n",
    "**Sample Output:**  \n",
    "11\\\n",
    "41\\\n",
    "47\\\n",
    "61\\\n",
    "41  \n",
    "\n",
    "*Эта задача доступна по [ссылке](https://stepik.org/lesson/3373/step/7?unit=956).*"
   ]
  },
  {
   "cell_type": "code",
   "execution_count": null,
   "id": "c61b38a4",
   "metadata": {},
   "outputs": [],
   "source": [
    "# считается, что функция f(x) определена заранее\n",
    "\n",
    "# для начала в программе задается количество чисел, которые будут введены и считаны функцией f(x)\n",
    "n = int(input())\n",
    "\n",
    "# инициализиурем переменную-счетчик для последующего применения в цикле while\n",
    "counter = 0\n",
    "\n",
    "# создадим пустой словарь для внесения в него только тех чисел, которые являются уникальными среди всех введенных ранее\n",
    "dictionary = {}\n",
    "\n",
    "# цикл while будет итерироваться столько раз, сколько чисел будет введено в программу,\n",
    "# т. е. в соответствие со значением переменной n\n",
    "while counter < n:\n",
    "# на каждой итерации вводим новое число \n",
    "    number = int(input())\n",
    "# если ключа с числом в переменной number нет в словаре dictionary, то в словарь будет добавлен ключ, \n",
    "# соответствующий числу в переменной number, а в значение по этому ключу – результат работы функции f(number)\n",
    "    if number not in dictionary.keys():\n",
    "        dictionary[number] = f(number)\n",
    "        print(dictionary[number])\n",
    "# если среди введенных чисел имеются повторения, то в таком случае функция f(number) не применяется, \n",
    "# а вместо этого на экран будет выведено значение по ключу, соответствующее числу в переменной number\n",
    "    elif number in dictionary.keys():\n",
    "        print(dictionary[number])\n",
    "# в конце каждой итерации значение счетчика увеличивается на единицу,\n",
    "# чтобы не допустить превышения допустимого количества чисел к вводу\n",
    "    counter += 1"
   ]
  },
  {
   "cell_type": "markdown",
   "id": "117703ac",
   "metadata": {},
   "source": [
    "### Файловый ввод/вывод"
   ]
  },
  {
   "cell_type": "markdown",
   "id": "0b3f515c",
   "metadata": {},
   "source": [
    "#### Задача 28"
   ]
  },
  {
   "cell_type": "markdown",
   "id": "f1a58e55",
   "metadata": {},
   "source": [
    "Напишите программу, которая считывает из файла строку, соответствующую тексту, сжатому с помощью кодирования повторов, и производит обратную операцию, получая исходный текст.\n",
    "\n",
    "В исходном тексте не встречаются цифры, так что код однозначно интерпретируем. Ниже приведен пример работы программы.\n",
    "\n",
    "**Sample Input:**  \n",
    "a3b4c2e10b1\n",
    "\n",
    "**Sample Output:**  \n",
    "aaabbbbcceeeeeeeeeeb\n",
    "\n",
    "Важное уточнение: файл *dataset_3363_2.txt* доступен для скачивания на сайте *Stepik* по ссылке ниже.\n",
    "\n",
    "*Эта задача доступна по [ссылке](https://stepik.org/lesson/3363/step/2?unit=1135).*"
   ]
  },
  {
   "cell_type": "code",
   "execution_count": 37,
   "id": "48a86735",
   "metadata": {},
   "outputs": [
    {
     "data": {
      "text/plain": [
       "'q15a13Y14g12J10y3F4y11M19m9K16A12p5N15k18J16o9i11I11Q18S4A11Y8w6M16K10p18o19g5G15'"
      ]
     },
     "execution_count": 37,
     "metadata": {},
     "output_type": "execute_result"
    }
   ],
   "source": [
    "# открываем исходный файл в режиме чтения (read – 'r')\n",
    "data = open('dataset_3363_2.txt', 'r')\n",
    "\n",
    "# сохраняем строку из файла data в новую переменную с удалением перехода на новую строку\n",
    "new_data = data.readline().strip()\n",
    "\n",
    "# закрываем исходный файл data\n",
    "data.close()\n",
    "\n",
    "# выведем на экран значение переменной new_data\n",
    "new_data"
   ]
  },
  {
   "cell_type": "code",
   "execution_count": 38,
   "id": "fb91f7cc",
   "metadata": {},
   "outputs": [
    {
     "name": "stdout",
     "output_type": "stream",
     "text": [
      "['q', 'a', 'Y', 'g', 'J']\n"
     ]
    }
   ],
   "source": [
    "# создаем пустой список, в который будут заноситься все буквенные значения из new_data\n",
    "letters = []\n",
    "\n",
    "# создаем пустой список, в который будут заноситься все числовые значения из new_data\n",
    "numbers = []\n",
    "\n",
    "# создаем цикл для добавления всех буквенных значений из new_data в список letters\n",
    "for i in range(len(new_data)):\n",
    "    if new_data[i].isalpha() == True:\n",
    "        letters.append(new_data[i])\n",
    "\n",
    "# проверим корректность внесения буквенных значений в список letters, выведя первые пять значений списка\n",
    "print(letters[:5])"
   ]
  },
  {
   "cell_type": "code",
   "execution_count": 39,
   "id": "5df4dc80",
   "metadata": {},
   "outputs": [
    {
     "name": "stdout",
     "output_type": "stream",
     "text": [
      "['15', '13', '14', '12', '10']\n"
     ]
    }
   ],
   "source": [
    "# задаем значение изначального индекса, с которого будет начинаться итерация цикла while на следующем шаге\n",
    "i = 0\n",
    "\n",
    "# создаем цикл со вложенными циклами для внесения числовых значений из new_data в список numbers\n",
    "while i <= len(new_data):\n",
    "# на каждой итерации этого цикла value будет пустым\n",
    "    value = ''\n",
    "# если значение по текущему индексу i не является числом, то цикл while начинает новую итерацию с i+1\n",
    "    if new_data[i].isalpha == True:\n",
    "        i += 1\n",
    "        continue\n",
    "# если же значение по текущему индексу является числом, то одновременно с этим проверяются значения \n",
    "# и по следующим индексам, пока на данном промежутке строки они не закончатся, прервавшись буквенным значением\n",
    "    else:\n",
    "        while i < len(new_data) and new_data[i].isnumeric() == True:\n",
    "            value += new_data[i]\n",
    "            i += 1\n",
    "\n",
    "# после выполнения всех итераций во вложенном цикле while, значение переменной value добавляется в список numbers\n",
    "        if value.isnumeric() == True:\n",
    "            numbers.append(value)\n",
    "        i += 1\n",
    "\n",
    "# проверим корректность внесения числовых значений в список numbers\n",
    "print(numbers[:5])"
   ]
  },
  {
   "cell_type": "code",
   "execution_count": 40,
   "id": "d7670cce",
   "metadata": {},
   "outputs": [
    {
     "data": {
      "text/plain": [
       "'qqqqqqqqqqqqqqqaaaaaaaaaaaaaYYYYYYYYYYYYYYggggggggggggJJJJJJJJJJyyyFFFFyyyyyyyyyyyMMMMMMMMMMMMMMMMMMMmmmmmmmmmKKKKKKKKKKKKKKKKAAAAAAAAAAAApppppNNNNNNNNNNNNNNNkkkkkkkkkkkkkkkkkkJJJJJJJJJJJJJJJJoooooooooiiiiiiiiiiiIIIIIIIIIIIQQQQQQQQQQQQQQQQQQSSSSAAAAAAAAAAAYYYYYYYYwwwwwwMMMMMMMMMMMMMMMMKKKKKKKKKKppppppppppppppppppooooooooooooooooooogggggGGGGGGGGGGGGGGG'"
      ]
     },
     "execution_count": 40,
     "metadata": {},
     "output_type": "execute_result"
    }
   ],
   "source": [
    "# создадим переменную, в которую будут добавляться значения в соответствие с условиями задачи\n",
    "conc = ''\n",
    "\n",
    "# создаем цикл for для добавления в переменную conc всех буквенных значений в нужном количестве \n",
    "for i in range(len(letters)) and range(len(numbers)):\n",
    "    conc += letters[i] * int(numbers[i])\n",
    "\n",
    "# проверим корректность внесения значений в конечном виде в переменной conc\n",
    "conc"
   ]
  },
  {
   "cell_type": "code",
   "execution_count": 41,
   "id": "2f815aa4",
   "metadata": {
    "scrolled": true
   },
   "outputs": [
    {
     "data": {
      "text/plain": [
       "'qqqqqqqqqqqqqqqaaaaaaaaaaaaaYYYYYYYYYYYYYYggggggggggggJJJJJJJJJJyyyFFFFyyyyyyyyyyyMMMMMMMMMMMMMMMMMMMmmmmmmmmmKKKKKKKKKKKKKKKKAAAAAAAAAAAApppppNNNNNNNNNNNNNNNkkkkkkkkkkkkkkkkkkJJJJJJJJJJJJJJJJoooooooooiiiiiiiiiiiIIIIIIIIIIIQQQQQQQQQQQQQQQQQQSSSSAAAAAAAAAAAYYYYYYYYwwwwwwMMMMMMMMMMMMMMMMKKKKKKKKKKppppppppppppppppppooooooooooooooooooogggggGGGGGGGGGGGGGGG'"
      ]
     },
     "execution_count": 41,
     "metadata": {},
     "output_type": "execute_result"
    }
   ],
   "source": [
    "# откроем файл data в режиме записи в файл (wtire – 'w')\n",
    "data = open('dataset_3363_2.txt', 'w')\n",
    "\n",
    "# запишем в файл data строку conc, которая перезапишет предыдущую строку в файле\n",
    "data.write(conc)\n",
    "\n",
    "# закроем файл data\n",
    "data.close()\n",
    "\n",
    "# откроем файл в режиме чтения (read – 'r') после внесения в него изменений\n",
    "data = open('dataset_3363_2.txt', 'r')\n",
    "\n",
    "# проверим корректность внесения изменений в исходный файл\n",
    "data.read()"
   ]
  },
  {
   "cell_type": "markdown",
   "id": "c999e55a",
   "metadata": {},
   "source": [
    "#### Задача 29"
   ]
  },
  {
   "cell_type": "markdown",
   "id": "1f75c82c",
   "metadata": {},
   "source": [
    "Напишите программу, которая считывает текст из файла (в файле может быть больше одной строки) и выводит самое частое слово в этом тексте и через пробел то, сколько раз оно встретилось. Если таких слов несколько, вывести лексикографически первое (можно использовать оператор **<** для строк).\n",
    "\n",
    "Слова, написанные в разных регистрах, считаются одинаковыми. Ниже приведен пример работы программы.\n",
    "\n",
    "**Sample Input:**  \n",
    "abc a bCd bC AbC BC BCD bcd ABC\n",
    "\n",
    "**Sample Output:**  \n",
    "abc 3\n",
    "\n",
    "Важное уточнение: файл *dataset_3363_3.txt* доступен для скачивания на сайте *Stepik* по ссылке ниже.\n",
    "\n",
    "*Эта задача доступна по [ссылке](https://stepik.org/lesson/3363/step/3?unit=1135).*"
   ]
  },
  {
   "cell_type": "code",
   "execution_count": 42,
   "id": "4bc3894e",
   "metadata": {},
   "outputs": [
    {
     "data": {
      "text/plain": [
       "'UTUbaX adXYpXYXZ pTdYpaY pTdYpaY YpT T aZcbc c Yc Ub aT YTcYpYZ a UYd pXXbTc c X Udc aYZbTXZ c dac ZYbbdTb pXXbTc ZcdYUY Zdd Y dp pZZTZpTc XXabpaaY ba UbaZYUUp ppaZaYp c bZYcbZd T UdXdUdb XcTbdZZpY T cTYbTbc YXaccXpTZ YY bY Ub UpaUaXc ZYaUYUTTYUddddUZ YUddddUZ bXXZd YUddddUZ YUddddUZ b bbaTa ppUd ZcdXXXU ppUd Tc ZcZa Y X b YdXb b ZUcYpZYcT YXbYYcaXpY dXaTac YTbUcdpc XbXU bpcUd TppTbYZTb dXaTac TpZXpT UYpbTY ZTUaZ aXZTap U TTbbTYT pYppXZ ZZXpbXU pbTabYcUp U YUb U ZUXbXdZT TapcZ YUb cbdc TppaX ZZTdpT bpTdZpd aZcpbpd TapXXYc ZUXbXdZT d ZZXpbXU dZ UYU bpTdZpd XbZ UdZcbZT pTTYZdYdZ U dXppdcYc YcpdpaTZc UdZcbZT bdUXXXpc YXUTcdXaXTZYbZp XaYcYa XaXTZYbZp daXdZpY dXUTYa YT XaYcYa bpUdZUaZ XaYcYa ZcZXbdb UY aaTdU UXXZ daXdZpY bcaapUpY abTZpaaTX TTTpTcTUbbUb cdpTba cdpTba cdpTba UY abZ YbZa dda b ddXU acapUUp acapUUp dda cdpTba TcpZZcd dUbTcbdY XpYcbUXd XpZaXd ddXU dTa cUaYTTbYp YcapadZU XTbcX TX XTbcX c UTUbTdcZTpdX Y dcY aabcUXb TYU UXa cpZaTcZY Y abcc UZYpcZZYX YpcZZYX dcXbUXb T dcXbUXb aaYbX TTXU UpY TXZUpcXZZ cYbada YYdpT aUdZ UpYpTU pXUp apU UabaYcdT bcbT bcbT Z bcbT bcbT UabaYcdT YUX bcbT ZcZaTpUbb Y pbpadYTYc bcbT YXYUbdTaZ YcTcTXcda UpdZpbbZ caacZ Y XaadZdbY Y ZbYbccYZY YUX cZ a pTU aXZYUb bdX Y pTUbbc dddXd UpppTYp dddXd dXbcpZUT bYYZZa UYdXUbb a apZbdpdb dddXd dXbcpZUT UpppTYp dddXd pUdUcU dddXd bYYZZa bYYZZa dXbcpZUT UpppTYp Y YZbXZpc pUdUcU dXbcpZUT pUdUcU YUpaZbp bTdZbXpap bbc cTTpTZ apZbdpdb pUXapZ UUYZ XpX dXbcpZUT T Taadp cXbaYpXTZbdXUZY bdXUZY ZUbUX UTTZd baUYYYpZX bdXUZY baUYYYpZX b ZadaZbY baUYYYpZX ZadaZbY UZTdd ZadaZbY UZTdd ZadaZbY dUabZT ZadaZbY dUabZT aXp TbTaYXXpT XUabdUX T UZpb dbd UZTdd baUYYYpZX UTTZd XZ UZTdd aXTdacddTXpc YbXdY YbXdY aYYTbTdab aYYTbTdab b bapd XZcb aYYTbTdab aYYTbTdab TcaXd cdbUpXZcd YUcUYcddZ YUcUYcddZ XZcb XZcb bpYa bXccUbpU dabTYTY YbXdY db acpdZ db dabTYTY Y bYcdYac bdppdcTXc bXZ pcUabpaap Uabpaap dYZbZ aYp c aYp dYZbZ Uabpaap Uabpaap YppX UTdaTdX YppX caYapX UaZU UaZU bdbadYdcc Uabpaap pXdbpZ pXdbpZ dbXbYZTUT dTUTada dUda U bcZdYZpXp pXdbpZ pXdbpZ TpdpZTca UccaUX pXdbpZ Uabpaap YppX paYYd XZ pYcY dc pZTU Yb dTdY UccaUX b acY bcZdYZpXp pXdbpZdZX UTddT aaYUX dZX aaYUX dZX dX pZ cdpdXZ ZZ dZX cpbcdX cdpdXZ bZcccXa UUX cdpdXZ UpZpZaY p YpddYc TbXpXXb bZcccXa aaYUX bZcccXa cXbUc UTddT bTXYp UZcXTbU YpUaa TbUpc dTpTdUZcZ TZbbcXac cdpdXZ bZcccXa dTaTdY Z bTXYp pcX cdpdXZ T YadbYacpT TbXpXXb YadbYacpT Ta XYbUaUZ YadbYacpT UZ aTXdbYa TZbbcXac X UU UTdd ZbZaYTbXZ bTXYp cZZdUZbZX dUZbZX dUZbZX cdZcYcYa dUZbZX YdaY a TXdTcZUaa dUZbZX TXdTcZUaa ppppZ UcUXX dUZbZX dUZbZX caYTd b caYTd ZUYdZdU ppYXpdcpc YdaY caYTd caYTd ZU dcYU XZaXTUUb TUUb p adbXd bU X X bU bU YbTUTZpXp dXdcTb adbXd UTc pbdUXUT bbY XTbUTpdXa Xaba ZXTaXZYpZ dcTbYpa Y pZppaUpbY UZX UZZYaTTp Y aUXUYaY Up cTdXTd Y dpUdXd UY bbY Y Zapbd aY UpTTpZXT YcZa cbpdXab Y UZX ZbaZ Xaba p dcTYcaZpXTYXaUX YUb ZZdddadp TaX XYYpac UpdXU X ZZdddadp ZYc TTT cTUXZdTY TTT ZpXTYXaUX X pZUdYZaccbaap bZb bpaYaaT bpaYaaT Xb UcZp dYcZbYb abapT TZZT b UYYaTpYZ bbZcUZUp cUYpZUbc cdpdYUpTZ aTUpaZpdU a pTYXd ZcZZ bap YZpbcTU ZYXc Yac abdaYZXa cbaap Zpb bpaYaaT UbXdc ddY ZXTXYXp YZpbcTU Zpb ZYZ Xb TpXTU abdaYZXa'"
      ]
     },
     "execution_count": 42,
     "metadata": {},
     "output_type": "execute_result"
    }
   ],
   "source": [
    "# открываем файл в режиме чтения (read – 'r')\n",
    "data = open('dataset_3363_3.txt', 'r')\n",
    "\n",
    "# создаем переменную с типом данных str\n",
    "new_data = ''\n",
    "\n",
    "# прочитаем каждую строку в файле с применением метода strip() и добавим каждую строку в переменную new_data\n",
    "for line in data:\n",
    "    line = line.strip()\n",
    "    new_data += line\n",
    "\n",
    "# закроем изначальный файл     \n",
    "data.close()\n",
    "\n",
    "# проверим корректность добавления значений в new_data\n",
    "new_data"
   ]
  },
  {
   "cell_type": "code",
   "execution_count": 43,
   "id": "e0e867ef",
   "metadata": {},
   "outputs": [
    {
     "data": {
      "text/plain": [
       "['utubax', 'adxypxyxz', 'ptdypay', 'ptdypay', 'ypt']"
      ]
     },
     "execution_count": 43,
     "metadata": {},
     "output_type": "execute_result"
    }
   ],
   "source": [
    "# зададим изначальное значение индекса для последующей итерации в цикле while\n",
    "i = 0\n",
    "\n",
    "# создадим пустой список, в который будут внесены все значения из new_data через запятую — \n",
    "# для удобства обращения к значением по индексам\n",
    "values = []\n",
    "\n",
    "# создаем цикл с вложенным циклом для добавления всех значений из new_data в список values\n",
    "while i < len(new_data):\n",
    "    value = ''\n",
    "    if new_data[i].isalpha() != True:\n",
    "        i += 1\n",
    "        continue\n",
    "    while i < len(new_data) and new_data[i].isalpha() == True:\n",
    "        value += new_data[i]\n",
    "        i += 1\n",
    "    values.append(value.lower())\n",
    "    i += 1\n",
    "\n",
    "# проверим корректность добавления значений в список values, выведя на экран первые пять значений списка\n",
    "values[:5]"
   ]
  },
  {
   "cell_type": "code",
   "execution_count": 44,
   "id": "ea7f93cb",
   "metadata": {},
   "outputs": [
    {
     "name": "stdout",
     "output_type": "stream",
     "text": [
      "[('utubax', 1), ('adxypxyxz', 1), ('ptdypay', 2), ('ypt', 1), ('t', 7)]\n"
     ]
    }
   ],
   "source": [
    "# создаем пустой словарь для включения в него каждого значения из списка values,\n",
    "# а также количества его упоминаний в этом списке\n",
    "dict_vq = {}\n",
    "\n",
    "# заполняем словарь посредством итераций в цикле\n",
    "for value in values:\n",
    "    if value not in dict_vq:\n",
    "        dict_vq[value] = values.count(value)\n",
    "\n",
    "# проверим корректность добавления значений в словарь dict_vq,  выведя на экран первые пять значений\n",
    "print(list(dict_vq.items())[:5])"
   ]
  },
  {
   "cell_type": "code",
   "execution_count": 45,
   "id": "099c9689",
   "metadata": {
    "scrolled": true
   },
   "outputs": [
    {
     "data": {
      "text/plain": [
       "{'y': 15}"
      ]
     },
     "execution_count": 45,
     "metadata": {},
     "output_type": "execute_result"
    }
   ],
   "source": [
    "# инициализируем переменную, в которой будет учитываться максимальное значение частоты упоминания значения в словаре\n",
    "max_number = 0\n",
    "\n",
    "# перебираем частоту каждого значения в словаре в поиске максимального\n",
    "for value in dict_vq:\n",
    "    if dict_vq[value] > max_number:\n",
    "        max_number = dict_vq[value]\n",
    "\n",
    "# создаем пустой словарь, в который будут добавлены все сочетания «ключ: значение»,\n",
    "# соответствующие максимальному значению частоты в словаре\n",
    "conc = {}\n",
    "\n",
    "# заполняем словарь посредством итераций в цикле for\n",
    "for key in dict_vq:\n",
    "    if dict_vq[key] == max_number:\n",
    "        conc[key] = dict_vq[key]\n",
    "        \n",
    "# проверим корректность заполнения словаря conc\n",
    "conc"
   ]
  },
  {
   "cell_type": "code",
   "execution_count": 46,
   "id": "45009935",
   "metadata": {},
   "outputs": [
    {
     "data": {
      "text/plain": [
       "'y'"
      ]
     },
     "execution_count": 46,
     "metadata": {},
     "output_type": "execute_result"
    }
   ],
   "source": [
    "# данный шаг выполняется в ситуации наличия в словаре conc \n",
    "# нескольких ключей с одинаковым — максимальным — значением частоты;\n",
    "# инициализируем переменную с последней буквой в латинском алфавите — \n",
    "# для вывода на экран лексикографически первого значения ключа \n",
    "first_key = 'z'\n",
    "\n",
    "# если значение ключа (т. е. позиция буквы) в словаре conc меньше, чем значение переменной first_key, \n",
    "# то значение последней будет заменено на первое\n",
    "for key in conc.keys():\n",
    "    if key < first_key:\n",
    "        first_key = key\n",
    "\n",
    "# проверяем корректность работы цикла for\n",
    "first_key "
   ]
  },
  {
   "cell_type": "code",
   "execution_count": 47,
   "id": "2b7adb88",
   "metadata": {},
   "outputs": [
    {
     "data": {
      "text/plain": [
       "'y 15'"
      ]
     },
     "execution_count": 47,
     "metadata": {},
     "output_type": "execute_result"
    }
   ],
   "source": [
    "# инициализируем переменную типа str, в которой будет сохранен конечный вариант необходимого вывода\n",
    "conc_last = ''\n",
    "\n",
    "# посредством цикла for добавляем в переменную conc_last соответствующее условиям задачи вывод\n",
    "for key, value in conc.items():\n",
    "    if key == first_key:\n",
    "        conc_last = key + ' ' + str(value)\n",
    "\n",
    "# проверяем корректность работы цикла for\n",
    "conc_last"
   ]
  },
  {
   "cell_type": "markdown",
   "id": "bbafeada",
   "metadata": {},
   "source": [
    "#### Задача 30"
   ]
  },
  {
   "cell_type": "markdown",
   "id": "f17ee089",
   "metadata": {},
   "source": [
    "Имеется файл с данными по успеваемости абитуриентов. Он представляет из себя набор строк, где в каждой строке записана следующая информация:\n",
    "\n",
    "<p style=\"text-align: center;\">Фамилия;Оценка_по_математике;Оценка_по_физике;Оценка_по_русскому_языку</p>\n",
    "\n",
    "Поля внутри строки разделены точкой с запятой, оценки – целые числа.\n",
    "\n",
    "Напишите программу, которая считывает исходный файл с подобной структурой и для каждого абитуриента записывает его среднюю оценку по трём предметам на отдельной строке, соответствующей этому абитуриенту, в файл с ответом.\n",
    "\n",
    "Также вычислите средние баллы по математике, физике и русскому языку по всем абитуриентам и добавьте полученные значения, разделённые пробелом, последней строкой в файл с ответом.\n",
    "\n",
    "В качестве ответа на задание прикрепите полученный файл со средними оценками по каждому ученику и одной строкой со средними оценками по трём предметам.\n",
    "\n",
    "Ниже приведен пример работы программы.\n",
    "\n",
    "**Sample Input:**  \n",
    "Петров;85;92;78  \n",
    "Сидоров;100;88;94  \n",
    "Иванов;58;72;85  \n",
    "\n",
    "**Sample Output:**  \n",
    "85.0  \n",
    "94.0  \n",
    "71.666666667  \n",
    "81.0 84.0 85.666666667\n",
    "\n",
    "Важное уточнение: файл *dataset_3363_4.txt* доступен для скачивания на сайте *Stepik* по ссылке ниже.\n",
    "\n",
    "*Эта задача доступна по [ссылке](https://stepik.org/lesson/3363/step/4?unit=1135).*"
   ]
  },
  {
   "cell_type": "code",
   "execution_count": 48,
   "id": "462f7a05",
   "metadata": {},
   "outputs": [
    {
     "data": {
      "text/plain": [
       "['Saunder;46;89;63',\n",
       " 'MacDonald;76;65;92',\n",
       " 'Harrison;73;69;55',\n",
       " 'Mathews;68;79;30',\n",
       " 'Oliver;72;93;32']"
      ]
     },
     "execution_count": 48,
     "metadata": {},
     "output_type": "execute_result"
    }
   ],
   "source": [
    "# открываем исходный файл в режиме чтения (read – 'r')\n",
    "data = open('dataset_3363_4.txt', 'r')\n",
    "\n",
    "# создаем пустой список для включения в него информации обо всех абитуриентах из исходного файла\n",
    "list_first = []\n",
    "\n",
    "# с помощью цикла for добавим в список list_first_new каждую строку из исходного файла\n",
    "for string in data:\n",
    "    string = string.strip()\n",
    "    list_first.append(string)\n",
    "\n",
    "# закроем ранее открытый файл\n",
    "data.close()\n",
    "\n",
    "# проверим корректность заполнения списка, выведя на экран первые пять значений списка\n",
    "list_first[0:5]"
   ]
  },
  {
   "cell_type": "code",
   "execution_count": 49,
   "id": "206f8979",
   "metadata": {},
   "outputs": [
    {
     "data": {
      "text/plain": [
       "[['Saunder', '46', '89', '63'],\n",
       " ['MacDonald', '76', '65', '92'],\n",
       " ['Harrison', '73', '69', '55'],\n",
       " ['Mathews', '68', '79', '30'],\n",
       " ['Oliver', '72', '93', '32']]"
      ]
     },
     "execution_count": 49,
     "metadata": {},
     "output_type": "execute_result"
    }
   ],
   "source": [
    "# создадим новый пустой список для добавления в него отредактированной информации \n",
    "# об абитуриентах без символа ';' в каждом значении\n",
    "list_second = []\n",
    "\n",
    "# заполним вновь созданный список отредактированной информацией о каждом абитуриенте, удалив всем символы ';'\n",
    "for i in range(len(list_first)):\n",
    "    list_second.append(list_first[i].split(';'))\n",
    "\n",
    "# проверим корректность заполнения списка, выведя на экран первые пять значений\n",
    "list_second[0:5]"
   ]
  },
  {
   "cell_type": "code",
   "execution_count": 50,
   "id": "cc3551ab",
   "metadata": {},
   "outputs": [
    {
     "name": "stdout",
     "output_type": "stream",
     "text": [
      "['Saunder', 'MacDonald', 'Harrison', 'Mathews', 'Oliver']\n"
     ]
    }
   ],
   "source": [
    "# создадим пустой словарь для добавления в него ключа по фамилии абитуриента \n",
    "# и значения в формате списка с оценками по каждому предмету\n",
    "dict_new = {}\n",
    "\n",
    "# создадим цикл со вложенным циклом для заполнения вновь созданного словаря dict_new\n",
    "for value in list_second:\n",
    "    for i in range(len(value)):\n",
    "# итерация цикла будет происходить только в том случае, \n",
    "# если текущее значение value будет состоять только из буквенных значений (используется функция isalpha())\n",
    "        if value[i].isalpha() == True:\n",
    "# значению каждого ключа будет соответствовать список из трех оценок по каждому из предметов\n",
    "            dict_new[value[i]] = value[i+1: i+4]\n",
    "\n",
    "# проверим корректность заполнения словаря, выведя на экран первые пять значений\n",
    "print(list(dict_new)[:5])"
   ]
  },
  {
   "cell_type": "code",
   "execution_count": 51,
   "id": "d5ae2b8a",
   "metadata": {},
   "outputs": [],
   "source": [
    "# сменим тип данных всех значений, содержащихся в списке, с помощью цикла for со вложенным циклом\n",
    "for key in dict_new.keys():\n",
    "    for i in range(len(dict_new[key])):\n",
    "        dict_new[key][i] = int(dict_new[key][i])\n",
    "        i += 1"
   ]
  },
  {
   "cell_type": "code",
   "execution_count": 52,
   "id": "050f88a3",
   "metadata": {
    "scrolled": true
   },
   "outputs": [
    {
     "data": {
      "text/plain": [
       "0"
      ]
     },
     "execution_count": 52,
     "metadata": {},
     "output_type": "execute_result"
    }
   ],
   "source": [
    "# осуществим дополнительную проверку на предмет наличия в списке всех оценок для каждого абитуриента;\n",
    "# для этого предварительно инициализируем переменную number \n",
    "# для подсчета количества абитуриентов с количеством оценок меньше трех\n",
    "number = 0 \n",
    "for key in dict_new.keys():\n",
    "    if len(dict_new[key]) != 3:\n",
    "        number += 1\n",
    "\n",
    "# проверим отсутствие некорректных данных в словаре\n",
    "number"
   ]
  },
  {
   "cell_type": "code",
   "execution_count": 53,
   "id": "814986c0",
   "metadata": {
    "scrolled": true
   },
   "outputs": [
    {
     "data": {
      "text/plain": [
       "[61.30555555555556, 59.675925925925924, 61.75]"
      ]
     },
     "execution_count": 53,
     "metadata": {},
     "output_type": "execute_result"
    }
   ],
   "source": [
    "# для начала посчитаем средние оценки по каждому из предметов для всех абитуриентов в целом;\n",
    "# создадим пустой список для добавления в него средних оценок по каждому из предметов\n",
    "means_by_subjects = []\n",
    "\n",
    "# инициализируем переменную со значением количества оценок в списке\n",
    "len_value = 3\n",
    "\n",
    "for i in range(len_value):\n",
    "# инициализируем переменную числового типа для расчета средней оценки по каждому предмету    \n",
    "    mean_single = 0\n",
    "    for key in dict_new.keys():\n",
    "# суммируем все значения по каждому предмету в соответствии с их позициями\n",
    "        mean_single += dict_new[key][i]\n",
    "# делим полученную сумму на количество абитуриентов в словаре\n",
    "    mean_single /= len(dict_new)\n",
    "# добавляем в список means_by_subjects полученные средние оценки\n",
    "    means_by_subjects.append(mean_single)\n",
    "\n",
    "# проверим корректность проведенных расчетов и заполнения списка\n",
    "means_by_subjects "
   ]
  },
  {
   "cell_type": "code",
   "execution_count": 54,
   "id": "800ce0e2",
   "metadata": {},
   "outputs": [
    {
     "data": {
      "text/plain": [
       "'61.30555555555556 59.675925925925924 61.75'"
      ]
     },
     "execution_count": 54,
     "metadata": {},
     "output_type": "execute_result"
    }
   ],
   "source": [
    "# после расчета средних оценок для всех абитуриентов в целом – преобразуем полученные средние значения в строковый тип данных;\n",
    "# для этого предварительно инициализируем переменную строкового типа для добавления в него рассчитанных средних значений\n",
    "means_by_subjects_str = ''\n",
    "\n",
    "# каждое расчетное значение из списка means_by_subjects добавляем в переменную means_by_subjects_str\n",
    "for value in means_by_subjects:\n",
    "    value = str(value)\n",
    "    means_by_subjects_str += value + ' '\n",
    "\n",
    "# удаляем лишние пробелы в переменной means_by_subjects_str с помощью метода strip()\n",
    "means_by_subjects_str = means_by_subjects_str.strip()\n",
    "\n",
    "# проверим корректность добавления значений, которое необходимо будет записать в исходный файл\n",
    "means_by_subjects_str"
   ]
  },
  {
   "cell_type": "code",
   "execution_count": 55,
   "id": "40f78e6d",
   "metadata": {},
   "outputs": [],
   "source": [
    "# на следующем этапе рассчитаем среднюю оценку по всем предметам для каждого студента в отдельности;\n",
    "# для этого предварительно импортируем библиотеку statistics для расчета средних значений, содержащихся в списке\n",
    "import statistics\n",
    "\n",
    "for key in dict_new.keys():\n",
    "# меняем исходное значение для каждого абитуриента на среднюю оценку\n",
    "    dict_new[key] = statistics.mean(dict_new[key])"
   ]
  },
  {
   "cell_type": "code",
   "execution_count": 56,
   "id": "dcf39364",
   "metadata": {},
   "outputs": [
    {
     "data": {
      "text/plain": [
       "[66, 77.66666666666667, 65.66666666666667, 59, 65.66666666666667]"
      ]
     },
     "execution_count": 56,
     "metadata": {},
     "output_type": "execute_result"
    }
   ],
   "source": [
    "# создаем пустой список для добавления в него всех средних оценок по каждому студенту\n",
    "average_grades = []\n",
    "\n",
    "# добавляем все значения из словаря dict_new в список average_grades\n",
    "for value in dict_new.values():\n",
    "    average_grades.append(value)\n",
    "\n",
    "# проверим корректность заполнения списка, выведя на экран первые пять значений\n",
    "average_grades[:5]"
   ]
  },
  {
   "cell_type": "code",
   "execution_count": 57,
   "id": "280412f2",
   "metadata": {
    "scrolled": true
   },
   "outputs": [
    {
     "data": {
      "text/plain": [
       "'66\\n77.66666666666667\\n65.66666666666667\\n59\\n65.66666666666667\\n89.66666666666667\\n66\\n35.333333333333336\\n76\\n62.666666666666664\\n81.66666666666667\\n45.666666666666664\\n62.666666666666664\\n51.333333333333336\\n39\\n67\\n56.666666666666664\\n67.33333333333333\\n70.66666666666667\\n56.333333333333336\\n64.33333333333333\\n39.333333333333336\\n43.666666666666664\\n74.66666666666667\\n68\\n63\\n55.666666666666664\\n52.333333333333336\\n63.333333333333336\\n33.333333333333336\\n67.66666666666667\\n61.333333333333336\\n66.66666666666667\\n69.33333333333333\\n50\\n91\\n51.333333333333336\\n44.666666666666664\\n56\\n53.333333333333336\\n69.66666666666667\\n48.666666666666664\\n57.333333333333336\\n60\\n64\\n88.33333333333333\\n90.33333333333333\\n46.333333333333336\\n63\\n58.666666666666664\\n76\\n69.66666666666667\\n49\\n81.33333333333333\\n46\\n62.333333333333336\\n53\\n72.33333333333333\\n54.666666666666664\\n64.66666666666667\\n47\\n60\\n75\\n82.33333333333333\\n82.33333333333333\\n59.666666666666664\\n67.66666666666667\\n83.33333333333333\\n54.333333333333336\\n65.66666666666667\\n53.666666666666664\\n69.66666666666667\\n72.66666666666667\\n57\\n62\\n48.333333333333336\\n51.666666666666664\\n29.666666666666668\\n53.333333333333336\\n67.33333333333333\\n56.333333333333336\\n46.666666666666664\\n69\\n67.33333333333333\\n52.666666666666664\\n50.666666666666664\\n64.33333333333333\\n35\\n72.66666666666667\\n51.666666666666664\\n64.66666666666667\\n66\\n35.666666666666664\\n43.333333333333336\\n83\\n35.666666666666664\\n69.66666666666667\\n84.66666666666667\\n46.333333333333336\\n44.666666666666664\\n55\\n52\\n47\\n93\\n57\\n54.666666666666664\\n76.66666666666667\\n54\\n61.30555555555556 59.675925925925924 61.75'"
      ]
     },
     "execution_count": 57,
     "metadata": {},
     "output_type": "execute_result"
    }
   ],
   "source": [
    "# инициализируем переменную строкового типа, в которую будут заноситься расчетные значения, \n",
    "# необходимые для записи в исходный файл\n",
    "conclusion_str = ''\n",
    "\n",
    "# добавим в переменную conclusion все средние оценки из списка average_grades, \n",
    "# изменив предварительно тип данных всех значений\n",
    "for value in average_grades:\n",
    "    value = str(value)\n",
    "# при каждом присоединении добавляем символ новой строки ('\\n'),\n",
    "# чтобы средняя оценка каждого студента находилась на новой строке\n",
    "    conclusion_str += value + '\\n'\n",
    "\n",
    "# добавим к средним оценкам каждого абитуриента средние оценки \n",
    "# по каждому предмету для всех студентов из переменной means_by_subjects_str\n",
    "conclusion_str += means_by_subjects_str\n",
    "\n",
    "# удалим лишние пробелы в переменной conclusion_str\n",
    "conclusion_str = conclusion_str.strip()\n",
    "\n",
    "# теперь откроем исходный файл в режиме записи в него изменений (write – 'w') \n",
    "# и сохраним в нем консолидированное значение conclusion_str\n",
    "data = open('dataset_3363_4.txt', 'w')\n",
    "data.write(conclusion_str)\n",
    "data.close()\n",
    "\n",
    "# на последнем шаге откроем исхождный в режиме чтения (read – 'r') и посмотрим на полученный результат\n",
    "data = open('dataset_3363_4.txt', 'r')\n",
    "data_new = data.read()\n",
    "data.close()\n",
    "data_new"
   ]
  },
  {
   "cell_type": "markdown",
   "id": "5fb9c031",
   "metadata": {},
   "source": [
    "### Модули, подключение модулей"
   ]
  },
  {
   "cell_type": "markdown",
   "id": "cf383052",
   "metadata": {},
   "source": [
    "#### Задача 31"
   ]
  },
  {
   "cell_type": "markdown",
   "id": "3f2a681e",
   "metadata": {},
   "source": [
    "Напишите программу, которая подключает модуль *math* и, используя значение числа *π* из этого модуля, находит для переданного ей на стандартный ввод радиуса круга периметр этого круга и выводит его на стандартный вывод.\n",
    "\n",
    "Ниже приведен пример работы программы.\n",
    "\n",
    "**Sample Input:**  \n",
    "10.0\n",
    "\n",
    "**Sample Output:**  \n",
    "62.83185307179586\n",
    "\n",
    "*Эта задача доступна по [ссылке](https://stepik.org/lesson/3377/step/2?unit=960).*"
   ]
  },
  {
   "cell_type": "code",
   "execution_count": 128,
   "id": "7296fcb4",
   "metadata": {
    "scrolled": true
   },
   "outputs": [
    {
     "name": "stdout",
     "output_type": "stream",
     "text": [
      "5.15\n"
     ]
    },
    {
     "data": {
      "text/plain": [
       "32.358404331974874"
      ]
     },
     "execution_count": 128,
     "metadata": {},
     "output_type": "execute_result"
    }
   ],
   "source": [
    "# импортируем модуль math\n",
    "import math\n",
    "\n",
    "# инициализируем переменную для ввода входящего значения радиуса круга\n",
    "radius = float(input())\n",
    "\n",
    "# считаем периметр круга на основании заданного радиуса круга и обращение к числу π из модуля math\n",
    "perimeter = 2 * math.pi * radius\n",
    "\n",
    "# выведем результат расчета периметра круга на экран\n",
    "perimeter"
   ]
  },
  {
   "cell_type": "markdown",
   "id": "9c98d163",
   "metadata": {},
   "source": [
    "#### Задача 32"
   ]
  },
  {
   "cell_type": "markdown",
   "id": "ecf06610",
   "metadata": {},
   "source": [
    "Напишите программу, которая запускается из консоли и печатает значения всех переданных аргументов на экран (имя скрипта выводить не нужно). Не изменяйте порядок аргументов при выводе.\n",
    "\n",
    "Для доступа к аргументам командной строки программы подключите модуль *sys* и используйте переменную *argv* из этого модуля.\n",
    "\n",
    "Пример работы программы:  \n",
    "> python3 my_solution.py arg1 arg2  \n",
    "arg1 arg2\n",
    "\n",
    "*Эта задача доступна по [ссылке](https://stepik.org/lesson/3377/step/3?unit=960).*"
   ]
  },
  {
   "cell_type": "code",
   "execution_count": 130,
   "id": "8be91455",
   "metadata": {},
   "outputs": [
    {
     "name": "stdout",
     "output_type": "stream",
     "text": [
      "-f C:\\Users\\2022-09\\AppData\\Roaming\\jupyter\\runtime\\kernel-d97968f6-1c5b-4a00-8dbf-ac35f14c02f0.json\n"
     ]
    }
   ],
   "source": [
    "# импортируем библиотеку sys \n",
    "import sys\n",
    "\n",
    "# вывод переданных значений на экран \n",
    "print(*sys.argv[1:])"
   ]
  },
  {
   "cell_type": "markdown",
   "id": "a9c6af26",
   "metadata": {},
   "source": [
    "### Установка дополнительных модулей"
   ]
  },
  {
   "cell_type": "markdown",
   "id": "591b0b3a",
   "metadata": {},
   "source": [
    "#### Задача 33"
   ]
  },
  {
   "cell_type": "markdown",
   "id": "8203129f",
   "metadata": {},
   "source": [
    "Скачайте файл *dataset_3378_2.txt*. В нём указан адрес другого файла, который нужно скачать с использованием модуля *requests* и посчитать число строк в нём.\n",
    "\n",
    "Используйте функцию *get* для получения файла (имеет смысл вызвать метод *strip* к передаваемому параметру, чтобы убрать пробельные символы по краям).\n",
    "\n",
    "После получения файла вы можете проверить результат, обратившись к полю *text*. Если результат работы скрипта не принимается, проверьте поле *url* на правильность. Для подсчёта количества строк разбейте текст с помощью метода *splitlines*.\n",
    "\n",
    "Важное уточнение: файл *dataset_3378_2.txt* доступен для скачивания на сайте *Stepik* по ссылке ниже.\n",
    "\n",
    "*Эта задача доступна по [ссылке](https://stepik.org/lesson/3378/step/2?unit=961).*"
   ]
  },
  {
   "cell_type": "code",
   "execution_count": 131,
   "id": "cbe111c6",
   "metadata": {},
   "outputs": [
    {
     "data": {
      "text/plain": [
       "'https://stepic.org/media/attachments/course67/3.6.2/790.txt'"
      ]
     },
     "execution_count": 131,
     "metadata": {},
     "output_type": "execute_result"
    }
   ],
   "source": [
    "# импортируем библиотеку requests\n",
    "import requests\n",
    "\n",
    "# открываем исходный файл с url-ссылкой в режиме чтения (read – 'r')\n",
    "data = open('dataset_3378_2.txt', 'r')\n",
    "\n",
    "# инициализируем переменную и сохраняем в нее url-ссылку\n",
    "url = data.read()\n",
    "\n",
    "# закрываем исходный файл\n",
    "data.close()\n",
    "\n",
    "# удаляем в url-ссылке пробельные символы по краям\n",
    "url = url.strip()\n",
    "\n",
    "# проверим корректность вывода url-ссылки на экран\n",
    "url"
   ]
  },
  {
   "cell_type": "code",
   "execution_count": 132,
   "id": "7fff1968",
   "metadata": {},
   "outputs": [
    {
     "data": {
      "text/plain": [
       "113"
      ]
     },
     "execution_count": 132,
     "metadata": {},
     "output_type": "execute_result"
    }
   ],
   "source": [
    "# инициализируем новую переменную и сохраним в ней обращение к адресу интернет-страницы\n",
    "get_url = requests.get(url)\n",
    "\n",
    "# инициализируем еще одну переменную переменную и сохраним в ней содержимое интернет-ссылки (get_url)\n",
    "data_new = get_url.text\n",
    "\n",
    "# разобьем строку на список строк по переводам строк\n",
    "data_new = data_new.splitlines() \n",
    "\n",
    "# посчитаем число строк \n",
    "len(data_new)"
   ]
  },
  {
   "cell_type": "markdown",
   "id": "d70c81c9",
   "metadata": {},
   "source": [
    "#### Задача 34"
   ]
  },
  {
   "cell_type": "markdown",
   "id": "74b297ad",
   "metadata": {},
   "source": [
    "Имеется набор файлов, каждый из которых, кроме последнего, содержит имя следующего файла. Первое слово в тексте последнего файла: «We».\n",
    "\n",
    "Скачайте предложенный файл. В нём содержится ссылка на первый файл из этого набора.\n",
    "\n",
    "Все файлы располагаются в каталоге по адресу: https://stepic.org/media/attachments/course67/3.6.3/.\n",
    "\n",
    "Важное уточнение: файл *dataset_3378_3.txt* доступен для скачивания на сайте *Stepik* по ссылке ниже.\n",
    "\n",
    "*Эта задача доступна по [ссылке](https://stepik.org/lesson/3378/step/3?thread=solutions&unit=961).*"
   ]
  },
  {
   "cell_type": "code",
   "execution_count": 133,
   "id": "31c3a420",
   "metadata": {},
   "outputs": [
    {
     "data": {
      "text/plain": [
       "'https://stepic.org/media/attachments/course67/3.6.3/699991.txt'"
      ]
     },
     "execution_count": 133,
     "metadata": {},
     "output_type": "execute_result"
    }
   ],
   "source": [
    "# импортируем библиотеку requests\n",
    "import requests\n",
    "\n",
    "# инициализируем переменную и сохраним в ней содержимое исходного файла, в которой хранится ссылка на первый файл\n",
    "data_new = open('dataset_3378_3.txt', 'r')\n",
    "\n",
    "# сохраняем в новую переменную ссылку на первый файл и удаляем в ней лишние пробелы\n",
    "link = data_new.read().strip()\n",
    "\n",
    "# закрываем исходный файл\n",
    "data_new.close()\n",
    "\n",
    "# выведем на экран ссылку на первый файл\n",
    "link"
   ]
  },
  {
   "cell_type": "code",
   "execution_count": 134,
   "id": "a694f780",
   "metadata": {},
   "outputs": [
    {
     "data": {
      "text/plain": [
       "'213837.txt'"
      ]
     },
     "execution_count": 134,
     "metadata": {},
     "output_type": "execute_result"
    }
   ],
   "source": [
    "# обратимся к ссылке и выведем на экран ее содержимое с удалением лишних пробелов\n",
    "data = requests.get(link)\n",
    "file_name = data.text.strip()\n",
    "file_name"
   ]
  },
  {
   "cell_type": "code",
   "execution_count": 135,
   "id": "ccf5984a",
   "metadata": {
    "scrolled": false
   },
   "outputs": [
    {
     "data": {
      "text/plain": [
       "\"We are the champions, my friends,\\nAnd we'll keep on fighting 'til the end.\\nWe are the champions.\\nWe are the champions.\\nNo time for losers\\n'Cause we are the champions of the world.\""
      ]
     },
     "execution_count": 135,
     "metadata": {},
     "output_type": "execute_result"
    }
   ],
   "source": [
    "# создадим цикл while для поиска последнего файла, который начинается со слова 'We'\n",
    "while 'We' not in file_name:\n",
    "# при каждой итерации формируем новую ссылку с новым окончанием по имени очередного файла\n",
    "    link = 'https://stepic.org/media/attachments/course67/3.6.3/' + file_name\n",
    "    file_name_new = requests.get(link)\n",
    "    file_name = file_name_new.text\n",
    "\n",
    "# выведем на экран содержимое последнего файла    \n",
    "file_name"
   ]
  },
  {
   "cell_type": "markdown",
   "id": "5e1dd030",
   "metadata": {},
   "source": [
    "### Задачи по материалам недели"
   ]
  },
  {
   "cell_type": "markdown",
   "id": "c53995b9",
   "metadata": {},
   "source": [
    "#### Задача 35"
   ]
  },
  {
   "cell_type": "markdown",
   "id": "0eab0b4c",
   "metadata": {},
   "source": [
    "Напишите программу, которая принимает на стандартный вход список игр футбольных команд с результатом матча и выводит на стандартный вывод сводную таблицу результатов всех матчей.\n",
    "\n",
    "За победу команде начисляется 3 очка, за поражение – 0, за ничью – 1.\n",
    "\n",
    "Формат ввода следующий:\n",
    "- в первой строке указано целое число *n* – количество завершенных игр,\n",
    "- после этого идет *n* строк, в которых записаны результаты игры в следующем формате:\n",
    "<p style=\"text-align: center;\">Первая_команда;Забито_первой_командой;Вторая_команда;Забито_второй_командой</p>\n",
    "\n",
    "Вывод программы необходимо оформить следующим образом: \n",
    "\n",
    "<p style=\"text-align: center;\">Команда:Всего_игр Побед Ничьих Поражений Всего_очков</p>\n",
    "\n",
    "Конкретный пример ввода-вывода приведён ниже. \n",
    "\n",
    "Порядок вывода команд произвольный. \n",
    "\n",
    "**Sample Input:**  \n",
    "3\\\n",
    "Спартак;9;Зенит;10  \n",
    "Локомотив;12;Зенит;3  \n",
    "Спартак;8;Локомотив;15\n",
    "\n",
    "**Sample Output:**  \n",
    "Спартак:2 0 0 2 0  \n",
    "Зенит:2 1 0 1 3  \n",
    "Локомотив:2 2 0 0 6\n",
    "\n",
    "*Эта задача доступна по [ссылке](https://stepik.org/lesson/3380/step/1?unit=963).*"
   ]
  },
  {
   "cell_type": "code",
   "execution_count": 11,
   "id": "f193bd8f",
   "metadata": {
    "scrolled": true
   },
   "outputs": [
    {
     "name": "stdout",
     "output_type": "stream",
     "text": [
      "3\n"
     ]
    }
   ],
   "source": [
    "# инициализируем переменную для ввода общего количество завершенных игр\n",
    "n = int(input())\n",
    "\n",
    "# создаем пустой список для сбора информации обо всех сыгранных матчах    \n",
    "all_information = []\n",
    "\n",
    "# инициализируем переменную для последующего использования в цикле while – \n",
    "# чтобы количество сыгранных матчей не превышало значение переменной n\n",
    "i = 1\n",
    "\n",
    "# создаем список, в который будут вноситься названия всех команд\n",
    "teams = []"
   ]
  },
  {
   "cell_type": "code",
   "execution_count": 12,
   "id": "b7cc8cc4",
   "metadata": {},
   "outputs": [
    {
     "name": "stdout",
     "output_type": "stream",
     "text": [
      "Спартак;9;Зенит;10\n",
      "Локомотив;12;Зенит;3\n",
      "Спартак;8;Локомотив;15\n"
     ]
    }
   ],
   "source": [
    "# создаем цикл while для ввода информации обо всех сыгранных матчах\n",
    "while i <= n:\n",
    "    \n",
    "# информация об одном мачте состоит из четырех частей и вносится через символ ';'    \n",
    "    match = input().split(';')\n",
    "\n",
    "# меняем тип данных у значений, соответствующих количеству забитых мячей\n",
    "    match[1] = int(match[1])\n",
    "    match[3] = int(match[3])\n",
    "\n",
    "# вносим в список teams названия всех команд\n",
    "    for value in match:\n",
    "        if type(value) == str and value not in teams:\n",
    "            teams.append(value)\n",
    "\n",
    "# добавляем информацию о каждом матче в сводный список all_information\n",
    "    all_information.append(match)\n",
    "\n",
    "# увеличиваем переменную на 1, чтобы количество сыгранных матчей не превышало значение переменной n\n",
    "    i += 1"
   ]
  },
  {
   "cell_type": "code",
   "execution_count": 13,
   "id": "0f3d2045",
   "metadata": {},
   "outputs": [],
   "source": [
    "# cоздаем пустой словарь для подсчета количества сыгранных игр каждой из команд\n",
    "answer_part_one = {}\n",
    "\n",
    "# создаем пустой список для внесения в него информации обо всех матчах без квадратных скобок\n",
    "games = []"
   ]
  },
  {
   "cell_type": "code",
   "execution_count": 14,
   "id": "303eb3cf",
   "metadata": {},
   "outputs": [
    {
     "name": "stdout",
     "output_type": "stream",
     "text": [
      "['Спартак', 9, 'Зенит', 10, 'Локомотив', 12, 'Зенит', 3, 'Спартак', 8, 'Локомотив', 15]\n"
     ]
    }
   ],
   "source": [
    "# с помощью цикла for расскроем вложенные списки в сводном списке all_information и внесем все значения в список games\n",
    "for match in all_information:\n",
    "    for value in match:\n",
    "        games.append(value)\n",
    "\n",
    "# проверим содержимое полученного списка games\n",
    "print(games)"
   ]
  },
  {
   "cell_type": "code",
   "execution_count": 15,
   "id": "c7a40619",
   "metadata": {},
   "outputs": [
    {
     "data": {
      "text/plain": [
       "{'Спартак': 2, 'Зенит': 2, 'Локомотив': 2}"
      ]
     },
     "execution_count": 15,
     "metadata": {},
     "output_type": "execute_result"
    }
   ],
   "source": [
    "# с помощью цикла for и метода count() посчитаем КОЛИЧЕСТВО ЗАВЕРШЕННЫХ ИГР для каждой из команд\n",
    "for team in games:\n",
    "    if team in teams:\n",
    "        answer_part_one[team] = games.count(team) \n",
    "\n",
    "# проверим содержимое полученного словаря\n",
    "answer_part_one"
   ]
  },
  {
   "cell_type": "code",
   "execution_count": 16,
   "id": "81504b03",
   "metadata": {},
   "outputs": [
    {
     "data": {
      "text/plain": [
       "{'Спартак': 0, 'Зенит': 1, 'Локомотив': 2}"
      ]
     },
     "execution_count": 16,
     "metadata": {},
     "output_type": "execute_result"
    }
   ],
   "source": [
    "# cоздаем пустой словарь для подсчета КОЛИЧЕСТВО ПОБЕД каждой из команд\n",
    "answer_part_two = {}\n",
    "\n",
    "# предварительно для каждой команды устанавливаем нулевое значение количества побед\n",
    "for team in teams:\n",
    "    answer_part_two[team] = 0\n",
    "\n",
    "# с помощью цикла for считаем количество побед каждой из команд\n",
    "for match in all_information:\n",
    "    if match[1] < match[3]:\n",
    "        answer_part_two[match[2]] += 1\n",
    "    elif match[1] > match[3]:\n",
    "        answer_part_two[match[0]] += 1\n",
    "\n",
    "# проверим содержимое полученного словаря        \n",
    "answer_part_two"
   ]
  },
  {
   "cell_type": "code",
   "execution_count": 17,
   "id": "9431bba3",
   "metadata": {},
   "outputs": [
    {
     "data": {
      "text/plain": [
       "{'Спартак': 0, 'Зенит': 0, 'Локомотив': 0}"
      ]
     },
     "execution_count": 17,
     "metadata": {},
     "output_type": "execute_result"
    }
   ],
   "source": [
    "# cоздаем пустой словарь для подсчета КОЛИЧЕСТВО МАТЧЕЙ, СЫГРАННЫХ В НИЧЬЮ\n",
    "answer_part_three = {}\n",
    "\n",
    "# предварительно для каждой команды устанавливаем нулевое значение количества матчей, сыгранных в ничью\n",
    "for team in teams:\n",
    "    answer_part_three[team] = 0\n",
    "\n",
    "# с помощью цикла for считаем количество матчей, сыгранных в ничью\n",
    "for match in all_information:\n",
    "    if match[1] == match[3]:\n",
    "        answer_part_three[match[0]] += 1\n",
    "        answer_part_three[match[2]] += 1\n",
    "\n",
    "# проверим содержимое полученного словаря  \n",
    "answer_part_three"
   ]
  },
  {
   "cell_type": "code",
   "execution_count": 18,
   "id": "d9446ae3",
   "metadata": {},
   "outputs": [
    {
     "data": {
      "text/plain": [
       "{'Спартак': 2, 'Зенит': 1, 'Локомотив': 0}"
      ]
     },
     "execution_count": 18,
     "metadata": {},
     "output_type": "execute_result"
    }
   ],
   "source": [
    "# cоздаем пустой словарь для подсчета КОЛИЧЕСТВО ПОРАЖЕНИЙ каждой из команд\n",
    "answer_part_four = {} \n",
    "\n",
    "# предварительно для каждой команды устанавливаем нулевое значение количества поражений\n",
    "for team in teams:\n",
    "    answer_part_four[team] = 0\n",
    "\n",
    "# с помощью цикла for считаем количества матчей, проигранных каждой командой\n",
    "for match in all_information:\n",
    "    if match[1] < match[3]:\n",
    "        answer_part_four[match[0]] += 1\n",
    "    elif match[1] > match[3]:\n",
    "        answer_part_four[match[2]] += 1\n",
    "\n",
    "# проверим содержимое полученного словаря      \n",
    "answer_part_four      "
   ]
  },
  {
   "cell_type": "code",
   "execution_count": 19,
   "id": "abb89075",
   "metadata": {},
   "outputs": [
    {
     "data": {
      "text/plain": [
       "{'Спартак': 0, 'Зенит': 3, 'Локомотив': 6}"
      ]
     },
     "execution_count": 19,
     "metadata": {},
     "output_type": "execute_result"
    }
   ],
   "source": [
    "# cоздаем пустой словарь для подсчета КОЛИЧЕСТВО ОЧКОВ, полученных каждой командой\n",
    "answer_part_five = {} \n",
    "\n",
    "# предварительно для каждой команды устанавливаем нулевое значение общего количества очков\n",
    "for team in teams:\n",
    "    answer_part_five[team] = 0    \n",
    "\n",
    "# с помощью цикла for считаем количество очков, полученных каждой командой\n",
    "for match in all_information:\n",
    "    if match[1] > match[3]:\n",
    "        answer_part_five[match[0]] += 3\n",
    "    elif match[1] < match[3]:\n",
    "            answer_part_five[match[2]] += 3\n",
    "    elif match[1] == match[3]:\n",
    "        answer_part_five[match[0]] += 1\n",
    "        answer_part_five[match[2]] += 1\n",
    "\n",
    "# проверим содержимое полученного словаря        \n",
    "answer_part_five"
   ]
  },
  {
   "cell_type": "code",
   "execution_count": 20,
   "id": "507978d7",
   "metadata": {},
   "outputs": [
    {
     "data": {
      "text/plain": [
       "{'Спартак': [2, 0, 0, 2, 0],\n",
       " 'Зенит': [2, 1, 0, 1, 3],\n",
       " 'Локомотив': [2, 2, 0, 0, 6]}"
      ]
     },
     "execution_count": 20,
     "metadata": {},
     "output_type": "execute_result"
    }
   ],
   "source": [
    "# создаем пустой словарь для внесения в него всей необходимой информации в соответствии с условиями задачи\n",
    "conc = {}\n",
    "\n",
    "# с помощью одновременного и многократного использования циклов for заполняем словарь conc;\n",
    "# в каждом цикле for обращаемся к ключам каждого из словарей, после чего устанавливаем фильтр с условием if\n",
    "for team_part_one in answer_part_one:\n",
    "    for team_part_two in answer_part_two:    \n",
    "        for team_part_three in answer_part_three:\n",
    "            for team_part_four in answer_part_four:\n",
    "                for team_part_five in answer_part_five:\n",
    "                    if team_part_one == team_part_two and \\\n",
    "                       team_part_two == team_part_three and \\\n",
    "                       team_part_three == team_part_four and \\\n",
    "                       team_part_four == team_part_five:\n",
    "                        conc[team_part_one] = [answer_part_one[team_part_one], \n",
    "                                               answer_part_two[team_part_two], \n",
    "                                               answer_part_three[team_part_three], \n",
    "                                               answer_part_four[team_part_four], \n",
    "                                               answer_part_five[team_part_five]]\n",
    "                        \n",
    "# проверим содержимое полученного словаря\n",
    "conc"
   ]
  },
  {
   "cell_type": "code",
   "execution_count": 21,
   "id": "6befaac5",
   "metadata": {},
   "outputs": [
    {
     "name": "stdout",
     "output_type": "stream",
     "text": [
      "Спартак:2 0 0 2 0\n",
      "Зенит:2 1 0 1 3\n",
      "Локомотив:2 2 0 0 6\n"
     ]
    }
   ],
   "source": [
    "# выведем на экран конечный результат в формате, соответствующем условиям задачи\n",
    "for team, score in conc.items():\n",
    "    print(team + ':', end='')\n",
    "    print(*score)"
   ]
  },
  {
   "cell_type": "markdown",
   "id": "971afe7e",
   "metadata": {},
   "source": [
    "#### Задача 36 (дополнительная)"
   ]
  },
  {
   "cell_type": "markdown",
   "id": "61362e7c",
   "metadata": {},
   "source": [
    "В какой-то момент в Институте биоинформатики биологи перестали понимать, что говорят информатики: они говорили каким-то странным набором звуков.\n",
    "\n",
    "В какой-то момент один из биологов раскрыл секрет информатиков: они использовали при общении подстановочный шифр, т.е. заменяли каждый символ исходного сообщения на соответствующий ему другой символ. Биологи раздобыли ключ к шифру и теперь нуждаются в помощи:\n",
    "\n",
    "Напишите программу, которая умеет шифровать и расшифровывать шифр подстановки. Программа принимает на вход две строки одинаковой длины, на первой строке записаны символы исходного алфавита, на второй строке − символы конечного алфавита, после чего идёт строка, которую нужно зашифровать переданным ключом, и ещё одна строка, которую нужно расшифровать.\n",
    "\n",
    "Пусть, например, на вход программе передано:  \n",
    "abcd  \n",
    "\\*d%#  \n",
    "abacabadaba  \n",
    "#\\*%\\*d\\*%\n",
    "\n",
    "Это значит, что символ **a** исходного сообщения заменяется на символ **\\*** в шифре, **b** заменяется на **d**, **c** − на **%** и **d** − на **#**. Нужно зашифровать строку **abacabadaba** и расшифровать строку **#\\*%\\*d\\*%** с помощью этого шифра. Получаем следующие строки, которые и передаём на вывод программы:  \n",
    "\\*d\\*%\\*d\\*#\\*d\\*  \n",
    "dacabac\n",
    "\n",
    "**Sample Input:**  \n",
    "abcd  \n",
    "\\*d%#  \n",
    "abacabadaba  \n",
    "#\\*%\\*d\\*%\n",
    "\n",
    "**Sample Output:**  \n",
    "\\*d\\*%\\*d\\*#\\*d\\*  \n",
    "dacabac\n",
    "\n",
    "*Эта задача доступна по [ссылке](https://stepik.org/lesson/3380/step/2?unit=963).*"
   ]
  },
  {
   "cell_type": "code",
   "execution_count": 58,
   "id": "0f3eb707",
   "metadata": {},
   "outputs": [
    {
     "name": "stdout",
     "output_type": "stream",
     "text": [
      "abcd\n",
      "*d%#\n",
      "abacabadaba\n",
      "#*%*d*%\n"
     ]
    }
   ],
   "source": [
    "# создадим все необходимые переменные для ввода первичных значений\n",
    "first_alphabet = input()\n",
    "mystery_alphabet = input()\n",
    "string_for_encryption = input()\n",
    "string_for_decryption = input()"
   ]
  },
  {
   "cell_type": "code",
   "execution_count": 59,
   "id": "08252c2a",
   "metadata": {},
   "outputs": [],
   "source": [
    "# при помощи list comprehension преобразуем строковые переменные first_alphabet и mystery_alphabet в списки\n",
    "first_alphabet_list = [x for x in first_alphabet]\n",
    "mystery_alphabet_list = [x for x in mystery_alphabet]"
   ]
  },
  {
   "cell_type": "code",
   "execution_count": 63,
   "id": "a31ceec6",
   "metadata": {},
   "outputs": [
    {
     "name": "stdout",
     "output_type": "stream",
     "text": [
      "*d*%*d*#*d*\n"
     ]
    }
   ],
   "source": [
    "# инициализируем переменную строкового типа для внесения в нее зашифрованной строки\n",
    "conc_one = ''\n",
    "\n",
    "# с помощью нескольких циклов for зашифруем все буквы в переменной string_for_encryption \n",
    "# в соответствие с подстановочным шифром mystery_alphabet_list\n",
    "for letter in string_for_encryption:\n",
    "    for index in range(len(first_alphabet_list)):\n",
    "        if letter == first_alphabet_list[index]:\n",
    "            conc_one += mystery_alphabet_list[index]\n",
    "\n",
    "# выведем на экран содержимое переменной conc_one\n",
    "print(conc_one)"
   ]
  },
  {
   "cell_type": "code",
   "execution_count": 64,
   "id": "7f7e973a",
   "metadata": {},
   "outputs": [
    {
     "name": "stdout",
     "output_type": "stream",
     "text": [
      "dacabac\n"
     ]
    }
   ],
   "source": [
    "# инициализируем переменную строкового типа для внесения в нее расшифрованной строки\n",
    "conc_two = ''\n",
    "\n",
    "# с помощью нескольких циклов for расшифруем все символы в переменной string_for_decryption \n",
    "# в соответствие с буквами исходного алфавита first_alphabet_list\n",
    "for symbol in string_for_decryption:\n",
    "    for index in range(len(mystery_alphabet_list)):\n",
    "        if symbol == mystery_alphabet_list[index]:\n",
    "            conc_two += first_alphabet_list[index]   \n",
    "            \n",
    "print(conc_two)"
   ]
  },
  {
   "cell_type": "markdown",
   "id": "d0415d5e",
   "metadata": {},
   "source": [
    "#### Задача 37"
   ]
  },
  {
   "cell_type": "markdown",
   "id": "a53488ec",
   "metadata": {},
   "source": [
    "Простейшая система проверки орфографии может быть основана на использовании списка известных слов. Если введённое слово не найдено в этом списке, оно помечается как «ошибка».\n",
    "\n",
    "Попробуем написать подобную систему. На вход программе первой строкой передаётся количество *a* известных нам слов, после чего на *a* строках указываются эти слова. Затем передаётся количество *b* строк текста для проверки, после чего *b* строк текста.\n",
    "\n",
    "Выведите уникальные «ошибки» в произвольном порядке. Работу производите без учёта регистра.\n",
    "\n",
    "**Sample Input:**  \n",
    "4\\\n",
    "champions  \n",
    "we  \n",
    "are  \n",
    "Stepik  \n",
    "3\\\n",
    "We are the champignons  \n",
    "We Are The Champions  \n",
    "Stepic  \n",
    "\n",
    "**Sample Output:**  \n",
    "stepic  \n",
    "champignons  \n",
    "the  \n",
    "\n",
    "*Эта задача доступна по [ссылке](https://stepik.org/lesson/3380/step/3?thread=solutions&unit=963).*"
   ]
  },
  {
   "cell_type": "code",
   "execution_count": 65,
   "id": "73d6df33",
   "metadata": {},
   "outputs": [
    {
     "name": "stdout",
     "output_type": "stream",
     "text": [
      "4\n"
     ]
    }
   ],
   "source": [
    "# инициализируем переменную для ввода количества известных нам слов\n",
    "number_of_known_words = int(input())"
   ]
  },
  {
   "cell_type": "code",
   "execution_count": 66,
   "id": "801ce6c7",
   "metadata": {},
   "outputs": [],
   "source": [
    "# создаем пустой список для включения в него всех известных нам слов\n",
    "list_of_known_words = []"
   ]
  },
  {
   "cell_type": "code",
   "execution_count": 67,
   "id": "1d239b44",
   "metadata": {},
   "outputs": [
    {
     "name": "stdout",
     "output_type": "stream",
     "text": [
      "champions\n",
      "we\n",
      "are\n",
      "Stepik\n"
     ]
    }
   ],
   "source": [
    "# инициализируем счетчик для использования в цикле while, благодаря чему количество строк \n",
    "# для ввода известных нам слов будет ограничено значением переменной number_of_known_words\n",
    "i = 0\n",
    "\n",
    "# создаем цикл while, при каждой итерации которого в список list_of_known_words будут заноситься известные нам слова\n",
    "while i < number_of_known_words:\n",
    "# внутри цикла while инициализируем переменную new_word, которая будет принимать заданные ей значения\n",
    "# и переводить все символы в нижний регистр с помощью метода lower()\n",
    "    new_word = input().lower()\n",
    "    list_of_known_words.append(new_word)\n",
    "    i += 1"
   ]
  },
  {
   "cell_type": "code",
   "execution_count": 68,
   "id": "d56d4ab6",
   "metadata": {},
   "outputs": [
    {
     "data": {
      "text/plain": [
       "['champions', 'we', 'are', 'stepik']"
      ]
     },
     "execution_count": 68,
     "metadata": {},
     "output_type": "execute_result"
    }
   ],
   "source": [
    "# проверим заполнение списка известными нам словами\n",
    "list_of_known_words"
   ]
  },
  {
   "cell_type": "code",
   "execution_count": 69,
   "id": "9655a9f1",
   "metadata": {},
   "outputs": [
    {
     "name": "stdout",
     "output_type": "stream",
     "text": [
      "3\n"
     ]
    }
   ],
   "source": [
    "# инициализируем переменную для ввода количества строк текста для последующей проверки\n",
    "number_of_words_for_cheking = int(input())"
   ]
  },
  {
   "cell_type": "code",
   "execution_count": 70,
   "id": "5e9c55de",
   "metadata": {},
   "outputs": [],
   "source": [
    "# создаем пустой список для включения в него всех слов из введенного нами текста для последующей проверки\n",
    "list_of_words_for_cheking = []"
   ]
  },
  {
   "cell_type": "code",
   "execution_count": 71,
   "id": "fbe6e870",
   "metadata": {},
   "outputs": [
    {
     "name": "stdout",
     "output_type": "stream",
     "text": [
      "We are the champignons\n",
      "We Are The Champions\n",
      "Stepic\n"
     ]
    }
   ],
   "source": [
    "# инициализируем счетчик для использования в цикле while, благодаря чему количество строк\n",
    "# для ввода текста будет ограничено значением переменной number_of_words_for_cheking\n",
    "i = 0\n",
    "\n",
    "# создаем цикл while, при каждой итерации которого в список list_of_words_for_cheking \n",
    "# будут заноситься все слова из заданного нами текста для последующей проверки\n",
    "while i < number_of_words_for_cheking:\n",
    "# внутри цикла while инициализируем переменную new_line, которая будет принимать заданные ей значения\n",
    "# и переводить все символы в нижний регистр с помощью метода lower(), после чего будет применен метод split()\n",
    "    new_line = input().lower().split()\n",
    "    list_of_words_for_cheking += new_line\n",
    "    i += 1"
   ]
  },
  {
   "cell_type": "code",
   "execution_count": 72,
   "id": "d2650142",
   "metadata": {},
   "outputs": [
    {
     "data": {
      "text/plain": [
       "['we', 'are', 'the', 'champignons', 'we', 'are', 'the', 'champions', 'stepic']"
      ]
     },
     "execution_count": 72,
     "metadata": {},
     "output_type": "execute_result"
    }
   ],
   "source": [
    "# проверим заполнение списка словами из введенного нами текста\n",
    "list_of_words_for_cheking"
   ]
  },
  {
   "cell_type": "code",
   "execution_count": 73,
   "id": "3a9df3db",
   "metadata": {},
   "outputs": [],
   "source": [
    "# создаем список, в который будут вноситься уникальные «ошибки», \n",
    "# т. е. те слова из списка list_of_words_for_cheking, которые отсутствуют в списке list_of_known_words\n",
    "list_of_mistakes = []"
   ]
  },
  {
   "cell_type": "code",
   "execution_count": 74,
   "id": "4b856525",
   "metadata": {},
   "outputs": [],
   "source": [
    "# с помощью цикла for заполняем список list_of_mistakes уникальными «ошибками»\n",
    "for value in list_of_words_for_cheking:\n",
    "    if value not in list_of_known_words and value not in list_of_mistakes:\n",
    "        list_of_mistakes.append(value)"
   ]
  },
  {
   "cell_type": "code",
   "execution_count": 75,
   "id": "97230fef",
   "metadata": {},
   "outputs": [
    {
     "data": {
      "text/plain": [
       "['the', 'champignons', 'stepic']"
      ]
     },
     "execution_count": 75,
     "metadata": {},
     "output_type": "execute_result"
    }
   ],
   "source": [
    "# проверим заполнение списка уникальными «ошибками»\n",
    "list_of_mistakes"
   ]
  },
  {
   "cell_type": "code",
   "execution_count": 76,
   "id": "21aaf9e2",
   "metadata": {},
   "outputs": [
    {
     "name": "stdout",
     "output_type": "stream",
     "text": [
      "the\n",
      "champignons\n",
      "stepic\n"
     ]
    }
   ],
   "source": [
    "# с помощью цикла for каждую уникальную «ошибку» выведем на новой строке\n",
    "for value in list_of_mistakes:\n",
    "    print(value)"
   ]
  },
  {
   "cell_type": "markdown",
   "id": "f860f37c",
   "metadata": {},
   "source": [
    "#### Задача 38"
   ]
  },
  {
   "cell_type": "markdown",
   "id": "1f7cbdab",
   "metadata": {},
   "source": [
    "Группа биологов в институте биоинформатики завела себе черепашку.\n",
    "\n",
    "После дрессировки черепашка научилась понимать и запоминать указания биологов следующего вида:\n",
    "- север 10,\n",
    "- запад 20,\n",
    "- юг 30, \n",
    "- восток 40, \n",
    "\n",
    "где первое слово – это направление, в котором должна двигаться черепашка, а число после слова – это положительное расстояние в сантиметрах, которое должна пройти черепашка.\n",
    "\n",
    "Но команды даются быстро, а черепашка ползёт медленно, и программисты догадались, что можно написать программу, которая определит, куда в итоге биологи приведут черепашку. Для этого программисты просят вас написать программу, которая выведет точку, в которой окажется черепашка после всех команд. Для простоты они решили считать, что движение начинается в точке (0, 0), и движение на восток увеличивает первую координату, а на север – вторую.\n",
    "\n",
    "Программе подаётся на вход число команд *n*, которые нужно выполнить черепашке, после чего *n* строк с самими командами (важно, что направление той или иной команды может быть использовано более 1 раза). Вывести нужно два числа в одну строку: первую и вторую координату конечной точки черепашки. Все координаты целочисленные.\n",
    "\n",
    "Конкретный пример ввода-вывода приведён ниже. \n",
    "\n",
    "**Sample Input:**  \n",
    "4 \\\n",
    "север 10  \n",
    "запад 20  \n",
    "юг 30  \n",
    "восток 40\n",
    "\n",
    "**Sample Output:**  \n",
    "20 -20\n",
    "\n",
    "*Эта задача доступна по [ссылке](https://stepik.org/lesson/3380/step/4?thread=solutions&unit=963).*"
   ]
  },
  {
   "cell_type": "code",
   "execution_count": 77,
   "id": "34df442e",
   "metadata": {},
   "outputs": [
    {
     "name": "stdout",
     "output_type": "stream",
     "text": [
      "4\n"
     ]
    }
   ],
   "source": [
    "# инициализируем переменную для ввода количества команд\n",
    "number_of_steps = int(input())"
   ]
  },
  {
   "cell_type": "code",
   "execution_count": 78,
   "id": "164c7dd3",
   "metadata": {},
   "outputs": [
    {
     "name": "stdout",
     "output_type": "stream",
     "text": [
      "север 10\n",
      "запад 20\n",
      "юг 30\n",
      "восток 40\n"
     ]
    }
   ],
   "source": [
    "# инициализируем счетчик для ограничения количества вводимых команд\n",
    "i = 0\n",
    "\n",
    "# создаем пустой список для заполнения всеми введенными командами\n",
    "all_steps = []\n",
    "\n",
    "# с помощью цикла while вводим команды в соответствие с заданным их количеством, \n",
    "# а именно – направление и расстояние, разделенные пробелом\n",
    "while i < number_of_steps:\n",
    "    step = input().split()\n",
    "    all_steps.append(step)\n",
    "    i += 1"
   ]
  },
  {
   "cell_type": "code",
   "execution_count": 79,
   "id": "6fb2614c",
   "metadata": {},
   "outputs": [
    {
     "data": {
      "text/plain": [
       "[['север', '10'], ['запад', '20'], ['юг', '30'], ['восток', '40']]"
      ]
     },
     "execution_count": 79,
     "metadata": {},
     "output_type": "execute_result"
    }
   ],
   "source": [
    "# проверим корректность заполнения списка всеми введенными командами\n",
    "all_steps"
   ]
  },
  {
   "cell_type": "code",
   "execution_count": 80,
   "id": "362f128e",
   "metadata": {},
   "outputs": [],
   "source": [
    "# инициализируем две переменные x и y, откуда будет начинаться движение черепашки;\n",
    "# переменная x соответствует первому параметру в изначальной точке (0, 0), а переменная y – второму параметру в этой точке\n",
    "x = 0 \n",
    "y = 0"
   ]
  },
  {
   "cell_type": "code",
   "execution_count": 81,
   "id": "545ad8dc",
   "metadata": {},
   "outputs": [],
   "source": [
    "# при помощи цикла for рассчитываем координаты конечной точки (или точки прибытия) черепашки\n",
    "for step in all_steps:\n",
    "# если направление северное (положительный отрезок оси Y), то переменная y увеличивается на указанное расстояние\n",
    "    if step[0] == 'север':\n",
    "        y += int(step[1])\n",
    "# если направление восточное (положительный отрезок оси X), то переменная x увеличивается на указанное расстояние \n",
    "    if step[0] == 'восток':\n",
    "        x += int(step[1])\n",
    "# если направление южное (отрицательный отрезок оси Y), то переменная y уменьшается на указанное расстояние        \n",
    "    if step[0] == 'юг':\n",
    "        y -= int(step[1])\n",
    "# если направление западное (отрицательный отрезок оси X), то переменная x уменьшается на указанное расстояние \n",
    "    if step[0] == 'запад':\n",
    "        x -= int(step[1])"
   ]
  },
  {
   "cell_type": "code",
   "execution_count": 82,
   "id": "ffeeac3d",
   "metadata": {},
   "outputs": [
    {
     "name": "stdout",
     "output_type": "stream",
     "text": [
      "20 -20\n"
     ]
    }
   ],
   "source": [
    "# выведем на экран координаты конечной точки (или точки прибытия) черепашки\n",
    "print(x, y)"
   ]
  },
  {
   "cell_type": "markdown",
   "id": "38e07a48",
   "metadata": {},
   "source": [
    "#### Задача 39"
   ]
  },
  {
   "cell_type": "markdown",
   "id": "af10cd45",
   "metadata": {},
   "source": [
    "Дан файл с таблицей в формате *TSV* с информацией о росте школьников разных классов.\n",
    "\n",
    "Напишите программу, которая прочитает этот файл и подсчитает для каждого класса средний рост учащегося.\n",
    "\n",
    "Файл состоит из набора строк, каждая из которых представляет собой три поля:\n",
    "<p style=\"text-align: center;\">Класс Фамилия Рост</p>\n",
    "\n",
    "Класс обозначается только числом. Буквенные модификаторы не используются. Номер класса может быть от 1 до 11 включительно. В фамилии нет пробелов, а в качестве роста используется натуральное число, но при подсчёте среднего требуется вычислить значение в виде вещественного числа.\n",
    "\n",
    "Выводить информацию о среднем росте следует в порядке возрастания номера класса (для классов – с первого по одиннадцатый). Если про какой-то класс нет информации, необходимо вывести напротив него прочерк.\n",
    "\n",
    "В качестве ответа прикрепите файл с полученными данными о среднем росте.\n",
    "\n",
    "Конкретный пример ввода-вывода приведён ниже. \n",
    "\n",
    "**Sample Input:**  \n",
    "6\tВяххи\t159  \n",
    "11\tФедотов\t172  \n",
    "7\tБондарев\t158  \n",
    "6\tЧайкина\t153\n",
    "\n",
    "**Sample Output:**  \n",
    "1 -  \n",
    "2 -  \n",
    "3 -  \n",
    "4 -  \n",
    "5 -  \n",
    "6 156.0  \n",
    "7 158.0  \n",
    "8 -  \n",
    "9 -  \n",
    "10 -  \n",
    "11 172.0\n",
    "\n",
    "Важное уточнение: файл *dataset_3380_5.txt* доступен для скачивания на сайте *Stepik* по ссылке ниже.\n",
    "\n",
    "*Эта задача доступна по [ссылке](https://stepik.org/lesson/3380/step/5?unit=963).*"
   ]
  },
  {
   "cell_type": "code",
   "execution_count": 92,
   "id": "5533907e",
   "metadata": {},
   "outputs": [
    {
     "name": "stdout",
     "output_type": "stream",
     "text": [
      "['6 Stevenson 151', '11 Page 179', '9 Youmans 171', '6 Berrington 150', '4 Gill 143']\n"
     ]
    }
   ],
   "source": [
    "# открываем исходный файл в режиме чтения (read – 'r')\n",
    "data = open('dataset_3380_5.txt', 'r')\n",
    "\n",
    "# создаем пустой список для внесения в него всех строк из исходного файла\n",
    "data_list = []\n",
    "\n",
    "# прочитаем каждую строку в файле и добавим ее в переменную new_data\n",
    "for line in data:\n",
    "# удаляем в каждой строке символ перехода на новую строку '\\n' с использованием метода strip()\n",
    "    line = line.strip()\n",
    "# удаляем в каждой строке символ табуляции '\\t' с использованием метода replace()\n",
    "    line = line.replace('\\t', ' ')\n",
    "    data_list.append(line)\n",
    "    \n",
    "# закрываем исходный файл data\n",
    "data.close()\n",
    "\n",
    "# проверим корректность заполнения списка, выведя на экран первые пять значений\n",
    "print(data_list[:5])"
   ]
  },
  {
   "cell_type": "code",
   "execution_count": 93,
   "id": "5b27afde",
   "metadata": {},
   "outputs": [],
   "source": [
    "# создадим два словаря – для подсчета количества учеников в каждом классе \n",
    "# и для суммирования всех значений о росте учеником в разбивке по классам соответственно\n",
    "dict_of_pupils = {}\n",
    "dict_of_height = {}"
   ]
  },
  {
   "cell_type": "code",
   "execution_count": 94,
   "id": "389fe6ef",
   "metadata": {},
   "outputs": [],
   "source": [
    "# инициализируем переменную, в которой сохраним последний класс обучения в школе \n",
    "last_grade = 11"
   ]
  },
  {
   "cell_type": "code",
   "execution_count": 95,
   "id": "b427e113",
   "metadata": {},
   "outputs": [
    {
     "data": {
      "text/plain": [
       "{1: 0, 2: 0, 3: 0, 4: 0, 5: 0, 6: 0, 7: 0, 8: 0, 9: 0, 10: 0, 11: 0}"
      ]
     },
     "execution_count": 95,
     "metadata": {},
     "output_type": "execute_result"
    }
   ],
   "source": [
    "# инициализируем переменную-счетчик со значением первого класса – для дальнейшего использования в цикле while\n",
    "i = 1\n",
    "\n",
    "# с помощью цикла while заполним словарь dict_of_pupils нулевыми значениями для каждого класса\n",
    "while i <= last_grade:\n",
    "    dict_of_pupils[i] = 0\n",
    "    i += 1\n",
    "\n",
    "# проверим корректность заполнения словаря\n",
    "dict_of_pupils  "
   ]
  },
  {
   "cell_type": "code",
   "execution_count": 96,
   "id": "542f667e",
   "metadata": {},
   "outputs": [
    {
     "data": {
      "text/plain": [
       "{1: 0, 2: 0, 3: 0, 4: 0, 5: 0, 6: 0, 7: 0, 8: 0, 9: 0, 10: 0, 11: 0}"
      ]
     },
     "execution_count": 96,
     "metadata": {},
     "output_type": "execute_result"
    }
   ],
   "source": [
    "# инициализируем переменную-счетчик со значением первого класса – для дальнейшего использования в цикле while\n",
    "i = 1\n",
    "\n",
    "# с помощью цикла while заполним словарь dict_of_height нулевыми значениями для каждого класса\n",
    "while i <= last_grade:\n",
    "    dict_of_height[i] = 0\n",
    "    i += 1\n",
    "\n",
    "# проверим корректность заполнения словаря\n",
    "dict_of_height "
   ]
  },
  {
   "cell_type": "code",
   "execution_count": 98,
   "id": "6c89ae47",
   "metadata": {},
   "outputs": [
    {
     "name": "stdout",
     "output_type": "stream",
     "text": [
      "['6 151', '11 179', '9 171', '6 150', '4 143']\n"
     ]
    }
   ],
   "source": [
    "# удалим в каждом значении исходных данных фамилию ученика, \n",
    "# оставив лишь номер класса и значение его роста, разделенные пробелом\n",
    "for i in range(len(data_list)):\n",
    "# индексация в первой переменной после знака '=' ограничивается двумя первыми символами, \n",
    "# поскольку значение последнего класса обучения в школе ограничивается двумя знаками;\n",
    "# индексация во второй переменной после знака '=' ограничивается тремя последними символами, \n",
    "# поскольку людей с ростом более 999 метров не бывает\n",
    "    data_list[i] = data_list[i][0:2].strip() + ' ' + data_list[i][-3:].strip()\n",
    "\n",
    "# проверим корректность внесенных изменений, выведя первые пять значений списка\n",
    "print(data_list[:5])"
   ]
  },
  {
   "cell_type": "code",
   "execution_count": 99,
   "id": "22e7ff53",
   "metadata": {},
   "outputs": [
    {
     "data": {
      "text/plain": [
       "{1: 15, 2: 13, 3: 10, 4: 9, 5: 8, 6: 8, 7: 11, 8: 7, 9: 10, 10: 8, 11: 10}"
      ]
     },
     "execution_count": 99,
     "metadata": {},
     "output_type": "execute_result"
    }
   ],
   "source": [
    "# с помощью цикла for посчитаем количество учеников в каждом классе \n",
    "# и включим соответствующие значение в словарь dict_of_pupils\n",
    "for value in data_list:\n",
    "    if int(value[0:2].strip()) == 1:\n",
    "        dict_of_pupils[1] += 1\n",
    "    if int(value[0:2].strip()) == 2:\n",
    "        dict_of_pupils[2] += 1\n",
    "    if int(value[0:2].strip()) == 3:\n",
    "        dict_of_pupils[3] += 1\n",
    "    if int(value[0:2].strip()) == 4:\n",
    "        dict_of_pupils[4] += 1\n",
    "    if int(value[0:2].strip()) == 5:\n",
    "        dict_of_pupils[5] += 1\n",
    "    if int(value[0:2].strip()) == 6:\n",
    "        dict_of_pupils[6] += 1\n",
    "    if int(value[0:2].strip()) == 7:\n",
    "        dict_of_pupils[7] += 1\n",
    "    if int(value[0:2].strip()) == 8:\n",
    "        dict_of_pupils[8] += 1\n",
    "    if int(value[0:2].strip()) == 9:\n",
    "        dict_of_pupils[9] += 1\n",
    "    if int(value[0:2].strip()) == 10:\n",
    "        dict_of_pupils[10] += 1\n",
    "    if int(value[0:2].strip()) == 11:\n",
    "        dict_of_pupils[11] += 1\n",
    "        \n",
    "# проверим корректность внесенных изменений в словарь\n",
    "dict_of_pupils"
   ]
  },
  {
   "cell_type": "code",
   "execution_count": 100,
   "id": "5ecdcd67",
   "metadata": {},
   "outputs": [
    {
     "name": "stdout",
     "output_type": "stream",
     "text": [
      "{1: 1875, 2: 1699, 3: 1346, 4: 1261, 5: 1170, 6: 1228, 7: 1751, 8: 1161, 9: 1708, 10: 1356, 11: 1760}\n"
     ]
    }
   ],
   "source": [
    "# с помощью цикла for посчитаем сумму всех значений роста учеников в разбивке по классам\n",
    "# и включим соответствующие значение в словарь dict_of_height\n",
    "for value in data_list:\n",
    "    if int(value[0:2].strip()) == 1:\n",
    "        dict_of_height[1] += int(value[-4:].strip())\n",
    "    if int(value[0:2].strip()) == 2:\n",
    "        dict_of_height[2] += int(value[-4:].strip())\n",
    "    if int(value[0:2].strip()) == 3:\n",
    "        dict_of_height[3] += int(value[-4:].strip())\n",
    "    if int(value[0:2].strip()) == 4:\n",
    "        dict_of_height[4] += int(value[-4:].strip())\n",
    "    if int(value[0:2].strip()) == 5:\n",
    "        dict_of_height[5] += int(value[-4:].strip())\n",
    "    if int(value[0:2].strip()) == 6:\n",
    "        dict_of_height[6] += int(value[-4:].strip())\n",
    "    if int(value[0:2].strip()) == 7:\n",
    "        dict_of_height[7] += int(value[-4:].strip())\n",
    "    if int(value[0:2].strip()) == 8:\n",
    "        dict_of_height[8] += int(value[-4:].strip())\n",
    "    if int(value[0:2].strip()) == 9:\n",
    "        dict_of_height[9] += int(value[-4:].strip())\n",
    "    if int(value[0:2].strip()) == 10:\n",
    "        dict_of_height[10] += int(value[-4:].strip())\n",
    "    if int(value[0:2].strip()) == 11:\n",
    "        dict_of_height[11] += int(value[-4:].strip())\n",
    "        \n",
    "# проверим корректность внесенных изменений в словарь\n",
    "print(dict_of_height)"
   ]
  },
  {
   "cell_type": "code",
   "execution_count": 101,
   "id": "6b6b8611",
   "metadata": {},
   "outputs": [
    {
     "data": {
      "text/plain": [
       "{1: 125.0,\n",
       " 2: 130.69230769230768,\n",
       " 3: 134.6,\n",
       " 4: 140.11111111111111,\n",
       " 5: 146.25,\n",
       " 6: 153.5,\n",
       " 7: 159.1818181818182,\n",
       " 8: 165.85714285714286,\n",
       " 9: 170.8,\n",
       " 10: 169.5,\n",
       " 11: 176.0}"
      ]
     },
     "execution_count": 101,
     "metadata": {},
     "output_type": "execute_result"
    }
   ],
   "source": [
    "# создадим пустой словарь для внесения в него значений о среднем возрасте учеников в разбивке по классам\n",
    "dict_of_average_height = {}\n",
    "\n",
    "# рассчитаем значения среднего возраста для учеников в каждом классе\n",
    "for grade in range(1, last_grade + 1):\n",
    "    if dict_of_height[grade] > 0 and dict_of_pupils[grade] > 0:\n",
    "        dict_of_average_height[grade] = dict_of_height[grade] / dict_of_pupils[grade]\n",
    "# если информация о каком-то классе отсутствует, то напротив класса будет проставлен символ прочерка '-'\n",
    "    else:\n",
    "        dict_of_average_height[grade] = '-'\n",
    "\n",
    "# проверим корректность проведенных расчетов\n",
    "dict_of_average_height"
   ]
  },
  {
   "cell_type": "code",
   "execution_count": 102,
   "id": "d8f3f3aa",
   "metadata": {},
   "outputs": [],
   "source": [
    "# откроем исходный файл в режиме записи (write – 'w')\n",
    "data = open('dataset_3380_5.txt', 'w')\n",
    "\n",
    "# с помощью цикла for построчно записываем всю информацию из словаря dict_of_average_height в исходный файл data\n",
    "for key, value in dict_of_average_height.items():\n",
    "# после записи информации о последнем классе, необходимость в переходе на новую строку отсутствует\n",
    "    if key == last_grade:\n",
    "        line = str(key) + ' ' + str(value)\n",
    "    else:\n",
    "        line = str(key) + ' ' + str(value) + '\\n'\n",
    "    data.write(line)\n",
    "\n",
    "# закрываем файл data\n",
    "data.close()"
   ]
  },
  {
   "cell_type": "code",
   "execution_count": 103,
   "id": "0b048309",
   "metadata": {},
   "outputs": [
    {
     "data": {
      "text/plain": [
       "'1 125.0\\n2 130.69230769230768\\n3 134.6\\n4 140.11111111111111\\n5 146.25\\n6 153.5\\n7 159.1818181818182\\n8 165.85714285714286\\n9 170.8\\n10 169.5\\n11 176.0'"
      ]
     },
     "execution_count": 103,
     "metadata": {},
     "output_type": "execute_result"
    }
   ],
   "source": [
    "# открываем перезаписанный файл в режиме чтения (read – 'r')\n",
    "data = open('dataset_3380_5.txt', 'r')\n",
    "\n",
    "# сохраняем в новой переменной значения о среднем росте учеников в каждом классе \n",
    "conclusion = data.read()\n",
    "\n",
    "# закрываем файл data\n",
    "data.close()\n",
    "\n",
    "# выведем на экран полученную информацию\n",
    "conclusion"
   ]
  }
 ],
 "metadata": {
  "kernelspec": {
   "display_name": "Python 3 (ipykernel)",
   "language": "python",
   "name": "python3"
  },
  "language_info": {
   "codemirror_mode": {
    "name": "ipython",
    "version": 3
   },
   "file_extension": ".py",
   "mimetype": "text/x-python",
   "name": "python",
   "nbconvert_exporter": "python",
   "pygments_lexer": "ipython3",
   "version": "3.9.13"
  },
  "toc": {
   "base_numbering": 1,
   "nav_menu": {},
   "number_sections": true,
   "sideBar": true,
   "skip_h1_title": true,
   "title_cell": "Содержание",
   "title_sidebar": "Решение задач из курса «Программирование на Python»",
   "toc_cell": true,
   "toc_position": {
    "height": "525.556px",
    "left": "67px",
    "top": "111.441px",
    "width": "303.531px"
   },
   "toc_section_display": true,
   "toc_window_display": false
  }
 },
 "nbformat": 4,
 "nbformat_minor": 5
}
